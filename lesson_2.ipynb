{
 "cells": [
  {
   "cell_type": "markdown",
   "metadata": {},
   "source": [
    "# 📝 Introduction to Python\n",
    "In this lesson, we will learn the basics of Python programming. Python is a versatile and powerful programming language that is widely used in various fields, including data science, web development, and automation.\n",
    "\n",
    "## Why Learn Python?\n",
    "- Python is easy to read and write.\n",
    "- It has a large community and many libraries.\n",
    "- It is used in many industries and applications.\n",
    "\n",
    "## How We Do This:\n",
    "- We will start with basic concepts like variables and data types.\n",
    "- Then, we will move on to more advanced topics like functions and loops.\n",
    "- Finally, we will apply our knowledge to solve real-world problems.\n",
    "\n",
    "This is a Jupyter Notebook, which is an interactive way to work with the programming language Python.\n",
    "\n",
    "Any code inside of a code cell can be run here as if you are running the cell in the terminal as a standalone `.py` file"
   ]
  },
  {
   "cell_type": "code",
   "execution_count": null,
   "metadata": {},
   "outputs": [],
   "source": [
    "# this is a comment, preceded by a hastag - this line will not be treated as code\n",
    "\n",
    "print(\"Hello World\") # <- this is a print statement, allowing us to output text to the screen"
   ]
  },
  {
   "cell_type": "markdown",
   "metadata": {},
   "source": [
    "How about if we want to do something a little bit more dynamic?\n",
    "\n",
    "## Variables: Storing Data  \n",
    "A **variable** is like a container that holds a value. You can name it anything (e.g., `message`).  \n",
    "- `message = \"Hello World\"` creates a variable called `message` and stores the text \"Hello World\".  \n",
    "- `print(message)` displays the value stored in `message`.  \n",
    "\n"
   ]
  },
  {
   "cell_type": "code",
   "execution_count": null,
   "metadata": {},
   "outputs": [],
   "source": [
    "message = \"Hello World\" # <- this is a variable, which stores a value\n",
    "\n",
    "print(message) # <- this will output the value of the variable to the screen"
   ]
  },
  {
   "cell_type": "markdown",
   "metadata": {},
   "source": [
    "There are lots of different types of variables, which all behave slightly differently\n",
    "\n",
    "**Strings** (`\"text\"`), **integers** (`1`), and **floats** (`1.0`) are different data types.  "
   ]
  },
  {
   "cell_type": "code",
   "execution_count": null,
   "metadata": {},
   "outputs": [],
   "source": [
    "a = \"Five\" # <- this is a string, a sequence of characters\n",
    "b = 5 # <- this is an integer, a whole number\n",
    "c = 5.0 # <- this is a float, floating point or rather, a decimal number"
   ]
  },
  {
   "cell_type": "markdown",
   "metadata": {},
   "source": [
    "### ✍️ Student Task: What Happens When You Add Different Types?  \n",
    "Try adding `b` (an integer) and `c` (a float). Predict the result, then write code below to test it.  \n",
    "*Hint: It works just like a calculator*"
   ]
  },
  {
   "cell_type": "code",
   "execution_count": null,
   "metadata": {},
   "outputs": [],
   "source": [
    "#  Your code here..."
   ]
  },
  {
   "cell_type": "markdown",
   "metadata": {},
   "source": [
    "we can assign a new variable to the result of an operation"
   ]
  },
  {
   "cell_type": "code",
   "execution_count": null,
   "metadata": {},
   "outputs": [],
   "source": [
    "d = b + c \n",
    "\n",
    "print(d) "
   ]
  },
  {
   "cell_type": "markdown",
   "metadata": {},
   "source": [
    "### ✍️ Student Task: Errors\n",
    "Try adding `a` (a string) and `b` (an integer). Predict the result, then write code below to test it.  \n",
    "*Hint: Python requires compatible types for operations!*"
   ]
  },
  {
   "cell_type": "code",
   "execution_count": null,
   "metadata": {},
   "outputs": [],
   "source": [
    "#  Your code here..."
   ]
  },
  {
   "cell_type": "markdown",
   "metadata": {},
   "source": [
    "## Understanding Errors: What They Are, How to Interpret Them, and Why They're Useful\n",
    "\n",
    "## What Are Errors?\n",
    "In programming and data science, an **error** is an indication that \n",
    "something unexpected or incorrect has occurred during the execution of \n",
    "your code. Errors can arise from a variety of sources, including:\n",
    "\n",
    "1. **Syntax Errors**: Mistakes in the structure of your code (e.g., typos, \n",
    "missing punctuation).\n",
    "2. **Runtime Errors**: Issues that occur while your code is running (e.g., \n",
    "division by zero, accessing a non-existent file).\n",
    "3. **Logical Errors**: Errors where the code runs without crashing but \n",
    "produces incorrect results due to flawed logic or reasoning.\n",
    "4. **Data-Related Errors**: Issues caused by unexpected or invalid input \n",
    "data (e.g., missing values, mismatched data types).\n",
    "\n",
    "---\n",
    "\n",
    "## Common Types of Errors in Python\n",
    "Here are some common error types you might encounter in Python:\n",
    "\n",
    "1. **`TypeError`**:\n",
    "   - Occurs when an operation is performed on an object of the incorrect \n",
    "type.\n",
    "   - Example: Trying to add a string and an integer (`\"5\" + 3`).\n",
    "\n",
    "2. **`NameError`**:\n",
    "   - Occurs when Python encounters a variable or function that has not \n",
    "been defined.\n",
    "   - Example: Trying to use `my_variable` before it is assigned.\n",
    "\n",
    "3. **`ValueError`**:\n",
    "   - Raised when a function receives an argument of correct type but \n",
    "inappropriate value.\n",
    "   - Example: Passing a negative number to a square root function.\n",
    "\n",
    "---\n",
    "\n",
    "## How to Interpret Errors\n",
    "When an error occurs, Python provides an error message that helps you \n",
    "understand what went wrong. For example:\n",
    "\n",
    "\n",
    "`print(\"Hello, World!\")`\n",
    "\n",
    "Suppose we misspell `print` as `prnt`:\n",
    "\n",
    "`prnt(\"Hello, World!\")`\n",
    "\n",
    "The error message might look like this:\n",
    "\n",
    "```\n",
    "NameError: name 'prnt' is not defined\n",
    "```\n",
    "\n",
    "This tells you that the function or variable `prnt` does not exist. You \n",
    "can then check your code to ensure you spelled it correctly.\n",
    "\n",
    "## Why Are Errors Useful?\n",
    "1. **Debugging**:\n",
    "   - Errors help you identify where and why something went wrong in your \n",
    "code. Debugging is the process of finding and fixing errors, and error \n",
    "messages are your primary tool for this.\n",
    "\n",
    "2. **Learning**:\n",
    "   - Errors are opportunities to learn more about how programming \n",
    "languages work. By understanding why an error occurs, you gain a deeper \n",
    "appreciation of the language's syntax, semantics, and limitations.\n",
    "\n",
    "## Best Practices for Handling Errors\n",
    "1. **Read the Error Message Carefully**: Start by understanding what \n",
    "Python is telling you.\n",
    "2. **Check Your Code Line by Line**: Trace back through your code to \n",
    "identify where the error originated.\n",
    "3. **Test with Smaller Inputs**: Simplify your code or data to isolate the \n",
    "problem."
   ]
  },
  {
   "cell_type": "markdown",
   "metadata": {},
   "source": [
    "### ✍️🐞 Student Task: Understanding and Correcting Errors (or bugs)\n",
    "\n",
    "Correct for the errors in the examples below"
   ]
  },
  {
   "cell_type": "code",
   "execution_count": null,
   "metadata": {},
   "outputs": [],
   "source": [
    "prnt(\"Hello World\") "
   ]
  },
  {
   "cell_type": "code",
   "execution_count": null,
   "metadata": {},
   "outputs": [],
   "source": [
    "print\"Hello World\")"
   ]
  },
  {
   "cell_type": "markdown",
   "metadata": {},
   "source": [
    "We can use python for more complex calculations as well"
   ]
  },
  {
   "cell_type": "code",
   "execution_count": null,
   "metadata": {},
   "outputs": [],
   "source": [
    "a = 1\n",
    "b = 5\n",
    "c = 3 \n",
    "\n",
    "x_1 = ( (-b) + (b**2 - 4*a*c)**0.5 ) / 2*a \n",
    "x_2 = ( (-b) - (b**2 - 4*a*c)**0.5 ) / 2*a\n",
    "\n",
    "print(x_1, x_2) # <- this will output the two solutions to the quadratic equation"
   ]
  },
  {
   "cell_type": "markdown",
   "metadata": {},
   "source": [
    "### ⌨ F-Strings\n",
    "Sometimes we want an output to look more human readable. We can combione variables and text using an f-string.\n",
    "\n",
    "This is just a regular string but with the letter f infront of it like:\n",
    "\n",
    "`f\"Hello World\"`\n",
    "\n",
    "This allows us to also use other code inside the string like:\n",
    "\n",
    "`f\"My favourite number is {6*6}\"`"
   ]
  },
  {
   "cell_type": "code",
   "execution_count": null,
   "metadata": {},
   "outputs": [],
   "source": [
    "# this is an f-string, allowing us to insert variables into a string\n",
    "print(f\"The solutions to the quadratic equation are {x_1:.4f} and {x_2:.4f}\") "
   ]
  },
  {
   "cell_type": "markdown",
   "metadata": {},
   "source": [
    "### ✍️🐞 Student Task: Understanding and Correcting Errors (or bugs)\n",
    "\n",
    "Correct for the *2* errors in the example below"
   ]
  },
  {
   "cell_type": "code",
   "execution_count": null,
   "metadata": {},
   "outputs": [],
   "source": [
    "a = \"5\"\n",
    "b = \"6\"\n",
    "\n",
    "print(f\"{a} + {b} = {a + b})"
   ]
  },
  {
   "cell_type": "markdown",
   "metadata": {},
   "source": [
    "What about if we want to calculate the solutions to the quadratic equation over and over again? \n",
    "\n",
    "We can define a function, which is a wrapper for a specific set of instructions which we need to use frequently\n",
    "\n",
    "## Functions: Reusable Blocks of Code  \n",
    "A **function** groups code to perform a specific task.  \n",
    "- `def function_name(parameters):` defines a function.  \n",
    "- Use `return` to send a result back.  \n",
    "\n",
    "**Example:**  \n",
    "The `quadratic_solver` function calculates solutions to equations like \\(ax^2 + bx + c = 0\\).  "
   ]
  },
  {
   "cell_type": "code",
   "execution_count": null,
   "metadata": {},
   "outputs": [],
   "source": [
    "def quadratic_solver(a, b, c): # <- this is a function, which takes inputs or arguments\n",
    "    x_1 = ( (-b) + (b**2 - 4*a*c)**0.5 ) / 2*a \n",
    "    x_2 = ( (-b) - (b**2 - 4*a*c)**0.5 ) / 2*a\n",
    "    print(f\"The solutions to the quadratic equation are {x_1:.4f} and {x_2:.4f}\") "
   ]
  },
  {
   "cell_type": "code",
   "execution_count": null,
   "metadata": {},
   "outputs": [],
   "source": [
    "quadratic_solver(1, 9, 1) # <- this will call the function"
   ]
  },
  {
   "cell_type": "markdown",
   "metadata": {},
   "source": [
    "A function can also return values to be used in a subsequent operation"
   ]
  },
  {
   "cell_type": "code",
   "execution_count": null,
   "metadata": {},
   "outputs": [],
   "source": [
    "def this_function_makes_pie(): # <- a function doesnt always need to take arguments\n",
    "\n",
    "    # lets calculate an approximation of pi\n",
    "    pi = 355/113 \n",
    "\n",
    "    return pi # <- this will return the value\n",
    "\n",
    "pi = this_function_makes_pie() \n",
    "\n",
    "print(3*pi)"
   ]
  },
  {
   "cell_type": "markdown",
   "metadata": {},
   "source": [
    "We can do some pretty complicated operations inside a function. For example, lets get a function which generates a simulation of a planet"
   ]
  },
  {
   "cell_type": "markdown",
   "metadata": {},
   "source": [
    "Lets download some code that I have already written from the internet. This will save the library into your workspace here so that we can use it in a second."
   ]
  },
  {
   "cell_type": "code",
   "execution_count": null,
   "metadata": {},
   "outputs": [],
   "source": [
    "!wget https://raw.githubusercontent.com/Jools-Clarke/orbyts24/refs/heads/main/planet_visualiser.py"
   ]
  },
  {
   "cell_type": "markdown",
   "metadata": {},
   "source": [
    "If you are running this code not in google colab, you might need to use the `curl` command instead. It does the same thing, but for macos systems"
   ]
  },
  {
   "cell_type": "code",
   "execution_count": null,
   "metadata": {},
   "outputs": [],
   "source": [
    "# !curl -O https://raw.githubusercontent.com/Jools-Clarke/orbyts24/refs/heads/main/planet_visualiser.py"
   ]
  },
  {
   "cell_type": "markdown",
   "metadata": {},
   "source": [
    "\n",
    "we need to import the code for the function from the library we just downloaded as `exo`"
   ]
  },
  {
   "cell_type": "code",
   "execution_count": null,
   "metadata": {},
   "outputs": [],
   "source": [
    "import planet_visualiser as exo # <- this is how we import a module"
   ]
  },
  {
   "cell_type": "markdown",
   "metadata": {},
   "source": [
    "### 🌍 Generating Planets  \n",
    "`exo.generate_single_planet()` creates:  \n",
    "- A random planet image  \n",
    "- With optional rings/atmosphere  \n",
    "- Automatically shows the image  \n",
    "- Returns a planet object that can be saved  \n",
    "\n",
    "Then we can run the function (try running the cell multiple times)"
   ]
  },
  {
   "cell_type": "code",
   "execution_count": null,
   "metadata": {},
   "outputs": [],
   "source": [
    "# this will call the function generate_single_planet, which we are telling python that it is in the module exo\n",
    "exo.generate_single_planet() "
   ]
  },
  {
   "cell_type": "markdown",
   "metadata": {},
   "source": [
    "lets create a function which returns the solutions of the quadratic equation\n",
    "\n",
    "### ✍️ Student Task: Complete the Quadratic Solver  \n",
    "Modify the `quadratic_solver` function to **return** both solutions instead of printing them.  \n",
    "*Hint: Use `return x_1, x_2` and call the function with `solutions = quadratic_solver(1, 9, 1)`.*"
   ]
  },
  {
   "cell_type": "code",
   "execution_count": null,
   "metadata": {},
   "outputs": [],
   "source": [
    "def my_quadratic_function(\n",
    "    # Your code here...\n"
   ]
  },
  {
   "cell_type": "markdown",
   "metadata": {},
   "source": [
    "lets test your function"
   ]
  },
  {
   "cell_type": "code",
   "execution_count": null,
   "metadata": {},
   "outputs": [],
   "source": [
    "x1, x2 = my_quadratic_function(1, 9, 1) # <- this will call the function and assign the return values to x1 and x2 variables\n",
    "\n",
    "print(f'The first solution is {x1:.4f}')\n",
    "print(f'and the second solution is {x2:.4f}')"
   ]
  },
  {
   "cell_type": "markdown",
   "metadata": {},
   "source": [
    "## Loops: Repeating Actions  \n",
    "A **`for` loop** repeats code for each item in a list/array.  \n",
    "\n",
    "**Example:**  \n",
    "`for row in parameters:` loops through each row of the `parameters` array.  "
   ]
  },
  {
   "cell_type": "code",
   "execution_count": null,
   "metadata": {},
   "outputs": [],
   "source": [
    "for i in [1,2,3,4,7]:\n",
    "    print(i*3)"
   ]
  },
  {
   "cell_type": "markdown",
   "metadata": {},
   "source": [
    "Now this works fine for 1 value, but say we want to do an operation that needs 3 input vcalues, such as the quadratic solver we have made above! We need a way to store these sets of 3 values together so we can loop through them"
   ]
  },
  {
   "cell_type": "markdown",
   "metadata": {},
   "source": [
    "#### We can do this by putting the inputs into a _matrix_!!\n",
    "\n",
    "\n",
    "First we need to import a specific set of instructions on how to handle a matrix from an external package called numpy"
   ]
  },
  {
   "cell_type": "code",
   "execution_count": null,
   "metadata": {},
   "outputs": [],
   "source": [
    "import numpy as np"
   ]
  },
  {
   "cell_type": "markdown",
   "metadata": {},
   "source": [
    "we will need some other packages later as well so lets import them here in advance"
   ]
  },
  {
   "cell_type": "code",
   "execution_count": null,
   "metadata": {},
   "outputs": [],
   "source": [
    "import matplotlib as mpl\n",
    "import matplotlib.pyplot as plt\n",
    "from tqdm import tqdm\n",
    "\n",
    "from sklearn.tree import DecisionTreeClassifier\n",
    "from sklearn.ensemble import RandomForestClassifier"
   ]
  },
  {
   "cell_type": "markdown",
   "metadata": {},
   "source": [
    "## NumPy Arrays  \n",
    "NumPy is a library for working with arrays (grids of numbers).  \n",
    "- `import numpy as np` imports the library.  \n",
    "- `parameters = np.array([...])` creates a 2D array.  |\n"
   ]
  },
  {
   "cell_type": "markdown",
   "metadata": {},
   "source": [
    "# Introduction to NumPy Arrays: Creating, Indexing, and Modifying\n",
    "\n",
    "## What Are NumPy Arrays?\n",
    "NumPy  (Numerical Python) is a powerful library for working with arrays of \n",
    "numerical data in Python. A **NumPy array** is a grid-like structure \n",
    "containing multiple values of the same type.\n",
    "\n",
    "## Creating NumPy Arrays with Zeros\n",
    "\n",
    "To create NumPy arrays, we initialise them with zeros \n",
    "using `numpy.zeros()` like this:"
   ]
  },
  {
   "cell_type": "code",
   "execution_count": null,
   "metadata": {},
   "outputs": [],
   "source": [
    "\n",
    "# Create a 1D array of zeros with shape (5,)\n",
    "zeros_1d = np.zeros(5)\n",
    "print(zeros_1d)   # Output: [0. 0. 0. 0. 0.]\n"
   ]
  },
  {
   "cell_type": "code",
   "execution_count": null,
   "metadata": {},
   "outputs": [],
   "source": [
    "# Create a 2D array of zeros with shape (3, 4)\n",
    "zeros_2d = np.zeros((3, 4))\n",
    "print(zeros_2d)"
   ]
  },
  {
   "cell_type": "markdown",
   "metadata": {},
   "source": [
    "The `numpy.zeros()` function takes the desired shape as input and returns \n",
    "an array filled with zeros.\n",
    "\n",
    "---\n",
    "\n",
    "## Indexing Elements in NumPy Arrays\n",
    "\n",
    "NumPy arrays can be indexed (searched) using square brackets `[]`. \n",
    "For multi-dimensional arrays, you specify indices for each \n",
    "dimension separated by commas.\n",
    "\n",
    "### 1D Array Indexing\n"
   ]
  },
  {
   "cell_type": "code",
   "execution_count": null,
   "metadata": {},
   "outputs": [],
   "source": [
    "# Access the first element of a 1D array (index 0)\n",
    "print(zeros_1d[0])   # Output: 0.0"
   ]
  },
  {
   "cell_type": "markdown",
   "metadata": {},
   "source": [
    "### 2D Array Indexing"
   ]
  },
  {
   "cell_type": "code",
   "execution_count": null,
   "metadata": {},
   "outputs": [],
   "source": [
    "# Access the element in row 0, column 1\n",
    "print(zeros_2d[0, 1])   # Output: 0.0"
   ]
  },
  {
   "cell_type": "markdown",
   "metadata": {},
   "source": [
    "### Modifying Values in NumPy Arrays\n",
    "\n",
    "You can modify values in a NumPy array by directly assigning new values to \n",
    "specific indices."
   ]
  },
  {
   "cell_type": "code",
   "execution_count": null,
   "metadata": {},
   "outputs": [],
   "source": [
    "# Modify the third element (index 2) to 5\n",
    "zeros_1d[2] = 5\n",
    "print(zeros_1d)   # Output: [0. 0. 5. 0. 0.]"
   ]
  },
  {
   "cell_type": "code",
   "execution_count": null,
   "metadata": {},
   "outputs": [],
   "source": [
    "# Modify the element in row 1, column 2 to 10\n",
    "zeros_2d[1, 2] = 10\n",
    "print(zeros_2d)"
   ]
  },
  {
   "cell_type": "markdown",
   "metadata": {},
   "source": [
    "### Slicing Elements\n",
    "You can also access subsets of an array using slicing:"
   ]
  },
  {
   "cell_type": "code",
   "execution_count": null,
   "metadata": {},
   "outputs": [],
   "source": [
    "# Access the second row and all columns in a 2D array\n",
    "print(zeros_2d[1, :]) "
   ]
  },
  {
   "cell_type": "code",
   "execution_count": null,
   "metadata": {},
   "outputs": [],
   "source": [
    "# Access all rows and the third column in a 2D array\n",
    "print(zeros_2d[:, 2])"
   ]
  },
  {
   "cell_type": "markdown",
   "metadata": {},
   "source": [
    "We can use the `:` (colon) as a placeholder for more than just a full row, we can also say \n",
    "\n",
    "`:2`, all values before two, \n",
    "\n",
    "or `2:`, all values after 2"
   ]
  },
  {
   "cell_type": "code",
   "execution_count": null,
   "metadata": {},
   "outputs": [],
   "source": [
    "# Access the first two elements of a 1D array\n",
    "print(zeros_1d[:2])"
   ]
  },
  {
   "cell_type": "markdown",
   "metadata": {},
   "source": [
    "### ✍️ Student Task: Changing Numpy Arrays\n",
    "\n",
    "Modify the element at row 2, column 3 of zeros_2d to 7"
   ]
  },
  {
   "cell_type": "code",
   "execution_count": null,
   "metadata": {},
   "outputs": [],
   "source": [
    "zeros_2d[ # Your code here...\n",
    "\n",
    "print(zeros_2d)"
   ]
  },
  {
   "cell_type": "markdown",
   "metadata": {},
   "source": [
    "### ✍️ Student Task: Changing Multiple Elements at Once\n",
    "\n",
    "set the first row of the new array to `[1,2,3]`"
   ]
  },
  {
   "cell_type": "code",
   "execution_count": null,
   "metadata": {},
   "outputs": [],
   "source": [
    "# Create a new array with zeros\n",
    "new_array = np.zeros((3, 3))\n",
    "\n",
    "\n",
    "# Modify specific elements using indexing\n",
    "new_array[ # Your code here...\n",
    "\n",
    "\n",
    "print(new_array)"
   ]
  },
  {
   "cell_type": "markdown",
   "metadata": {},
   "source": [
    "#### Lets get back to the quadratic equations\n",
    " We define 5 sets of 3 values as a numpy array"
   ]
  },
  {
   "cell_type": "code",
   "execution_count": null,
   "metadata": {},
   "outputs": [],
   "source": [
    "parameters = np.array([ [1,9,1],\n",
    "                        [1,5,3],\n",
    "                        [2,8,3],\n",
    "                        [1,3,2],\n",
    "                        [2,6,2] ])\n",
    "\n",
    "parameters # <- this will output the array to the screen, this is a shortcut for print() we can use in Jupyter"
   ]
  },
  {
   "cell_type": "markdown",
   "metadata": {},
   "source": [
    "lets put the loops we covered earlier into use..."
   ]
  },
  {
   "cell_type": "code",
   "execution_count": null,
   "metadata": {},
   "outputs": [],
   "source": [
    "for row in parameters: # <- this is a loop, which will iterate over each row in the array\n",
    "    \n",
    "    print(row) # <- this will output each row to the screen"
   ]
  },
  {
   "cell_type": "markdown",
   "metadata": {},
   "source": [
    "\n",
    "### ✍️ Student Task: Solving the quadratic equation all at once\n",
    "Modify the below code to print the solutions to the quadratic equation instead of the parameters"
   ]
  },
  {
   "cell_type": "code",
   "execution_count": null,
   "metadata": {},
   "outputs": [],
   "source": [
    "for row in parameters: # <- this is a loop, which will iterate over each row in the array\n",
    "    a = row[0]\n",
    "    b = # Your code here...\n",
    "    c = # Your code here...\n",
    "\n",
    "    x1, x2 = # Your code here...\n",
    "    print(x1, x2) # <- this will output each row to the screen"
   ]
  },
  {
   "cell_type": "markdown",
   "metadata": {},
   "source": [
    "we can then use the function you created to save these solutions to another array rather than printing them"
   ]
  },
  {
   "cell_type": "code",
   "execution_count": null,
   "metadata": {},
   "outputs": [],
   "source": [
    "# first create an empty matric in which to store the results\n",
    "results = np.zeros((5, 2))\n",
    "\n",
    "results"
   ]
  },
  {
   "cell_type": "code",
   "execution_count": null,
   "metadata": {},
   "outputs": [],
   "source": [
    "#then we can input a value into this empty matrix by specifying its position\n",
    "\n",
    "results[0, 1] = 1 # <- this will input the value 1 into the first row, second column\n",
    "results[3] = [2,5] # <- this will input the values 2 and 5 into the fourth row\n",
    "\n",
    "results"
   ]
  },
  {
   "cell_type": "markdown",
   "metadata": {},
   "source": [
    "\n",
    "### ✍️ Student Task: Fixing a common error \n",
    "Suppose you encounter this error:\n",
    "\n",
    "```\n",
    "IndexError: list index out of range\n",
    "```\n",
    "\n",
    "This means you're trying to access an element in a list using an index \n",
    "that is too large. For example:\n",
    "\n",
    "```python\n",
    "my_list = [1, 2, 3]\n",
    "print(my_list[5])  # This will raise IndexError.\n",
    "```\n",
    "\n",
    "To fix this:\n",
    "- Check the length of your list using `len()`.\n",
    "- Ensure your index is within valid bounds.\n",
    "\n",
    "Fix the errors in the code below\n",
    "\n",
    "_Hint: `print(results.shape)` will tell you the number of rows and columns in `results`_\n"
   ]
  },
  {
   "cell_type": "code",
   "execution_count": null,
   "metadata": {},
   "outputs": [],
   "source": [
    "print(f\"the second column of results is {results[:,2]}\")"
   ]
  },
  {
   "cell_type": "code",
   "execution_count": null,
   "metadata": {},
   "outputs": [],
   "source": [
    "print(f\"the third row, first column value of results is {results[0,2]}\")"
   ]
  },
  {
   "cell_type": "code",
   "execution_count": null,
   "metadata": {},
   "outputs": [],
   "source": [
    "ones = np.ones(5)\n",
    "\n",
    "print(f'We can modify results by adding 1:\\n {results + ones}')"
   ]
  },
  {
   "cell_type": "markdown",
   "metadata": {},
   "source": [
    "We can also get the information about what iteration we are on inside a loop using `enumerate()` "
   ]
  },
  {
   "cell_type": "code",
   "execution_count": null,
   "metadata": {},
   "outputs": [],
   "source": [
    "for i, row in enumerate(parameters): # <- this loop will iterate over each row, and also output the index as i\n",
    "    a, b, c = row\n",
    "    \n",
    "    print(i, x1, x2)"
   ]
  },
  {
   "cell_type": "markdown",
   "metadata": {},
   "source": [
    "modify this code to save the solutions\n",
    "\n",
    "### ✍️ Student Task: Store Results in a Matrix  \n",
    "Use a loop to calculate and save the quadratic solutions for each row in `parameters` into the `results` array.  \n",
    "*Hint: Use your `quadratic_solver` function and assign to `results[i, 0]` and `results[i, 1]`.*"
   ]
  },
  {
   "cell_type": "code",
   "execution_count": null,
   "metadata": {},
   "outputs": [],
   "source": [
    "for i, row in enumerate(parameters): # <- this loop will iterate over each row, and also output the index as i\n",
    "    a, b, c = row\n",
    "    # Your code here...\n",
    "    \n",
    "    results[ # Your code here...\n",
    "\n",
    "print(results)"
   ]
  },
  {
   "cell_type": "markdown",
   "metadata": {},
   "source": [
    "we can also do this whole process much faster as one matrix transformation like this. This may look quite offputting, but because it is asking the computer to solve all of the solutions simpletaneously, it is much faster."
   ]
  },
  {
   "cell_type": "code",
   "execution_count": null,
   "metadata": {},
   "outputs": [],
   "source": [
    "# we can also do this whole process as one matrix transformation like so\n",
    "\n",
    "p = parameters\n",
    "results = np.array([( (-p[:,1]) + (p[:,1]**2 - 4*p[:,0]*p[:,2])**0.5 ) / 2*p[:,0],\n",
    "              ( (-p[:,1]) - (p[:,1]**2 - 4*p[:,0]*p[:,2])**0.5 ) / 2*p[:,0]]).T\n",
    "\n",
    "results"
   ]
  },
  {
   "cell_type": "markdown",
   "metadata": {},
   "source": [
    "we can make it easier to understand by using functions!"
   ]
  },
  {
   "cell_type": "code",
   "execution_count": null,
   "metadata": {},
   "outputs": [],
   "source": [
    "def mqs(parameters):\n",
    "    a, b, c = parameters.T # <- .T is a matrix transpose, this swaps the rows and columns of the matrix, making it easier to work with in this case\n",
    "    results = np.array([( (-b) + (b**2 - 4*a*c)**0.5 ) / 2*a,\n",
    "                        ( (-b) - (b**2 - 4*a*c)**0.5 ) / 2*a]).T # <- then we transpose back to the original shape\n",
    "    return results\n",
    "\n",
    "results = mqs(parameters)\n",
    "\n",
    "results"
   ]
  },
  {
   "cell_type": "markdown",
   "metadata": {},
   "source": [
    "# 🪐 Using Python as a tool for Exoplanet Analysis\n",
    "\n",
    "Lets generate a sample of planets. Notice we are using the `exo` module from earlier"
   ]
  },
  {
   "cell_type": "code",
   "execution_count": null,
   "metadata": {},
   "outputs": [],
   "source": [
    "exo.generate_planet_grid()"
   ]
  },
  {
   "cell_type": "markdown",
   "metadata": {},
   "source": [
    "Without light, we wouldnt be able to see these planets, so lets generate some light\n",
    "\n",
    "### 🌟 Generating Stars  \n",
    "`exo.generate_star_grid()`:  \n",
    "- Creates a 5x5 grid of stars  \n",
    "- Each star has random size/position  \n",
    "- Uses black background for space effect  "
   ]
  },
  {
   "cell_type": "code",
   "execution_count": null,
   "metadata": {},
   "outputs": [],
   "source": [
    "exo.generate_single_star()"
   ]
  },
  {
   "cell_type": "markdown",
   "metadata": {},
   "source": [
    "And now a whole load more..."
   ]
  },
  {
   "cell_type": "code",
   "execution_count": null,
   "metadata": {},
   "outputs": [],
   "source": [
    "exo.generate_star_grid()"
   ]
  },
  {
   "cell_type": "markdown",
   "metadata": {},
   "source": [
    "If we modify the magnification of the star, we can see some of the details of the stellar surface more clearly"
   ]
  },
  {
   "cell_type": "code",
   "execution_count": null,
   "metadata": {},
   "outputs": [],
   "source": [
    "exo.generate_star_grid(radius_range=(1, 1))"
   ]
  },
  {
   "cell_type": "markdown",
   "metadata": {},
   "source": [
    "### ✍️ Student Task: What do you think are the circles we can see on these stars? \n",
    "\n",
    "do you think they will have an effect on our observations? \n",
    "\n",
    "Write some quick observations"
   ]
  },
  {
   "cell_type": "raw",
   "metadata": {
    "vscode": {
     "languageId": "raw"
    }
   },
   "source": [
    "# Your observations here"
   ]
  },
  {
   "cell_type": "markdown",
   "metadata": {},
   "source": [
    "Lets generate a single planet, and save this planet to a variable so we can use it later"
   ]
  },
  {
   "cell_type": "code",
   "execution_count": null,
   "metadata": {},
   "outputs": [],
   "source": [
    "my_planet = exo.generate_single_planet()"
   ]
  },
  {
   "cell_type": "markdown",
   "metadata": {},
   "source": [
    "We can also save it to the disk as a file"
   ]
  },
  {
   "cell_type": "code",
   "execution_count": null,
   "metadata": {},
   "outputs": [],
   "source": [
    "my_planet.save(\"planets/myplanet.png\")"
   ]
  },
  {
   "cell_type": "markdown",
   "metadata": {},
   "source": [
    "We can do the same thing with a star"
   ]
  },
  {
   "cell_type": "code",
   "execution_count": null,
   "metadata": {},
   "outputs": [],
   "source": [
    "my_star = exo.generate_single_star(radius_range=(1, 1))"
   ]
  },
  {
   "cell_type": "code",
   "execution_count": null,
   "metadata": {},
   "outputs": [],
   "source": [
    "my_star.save(\"stars/mystar.png\")"
   ]
  },
  {
   "cell_type": "markdown",
   "metadata": {},
   "source": [
    "Now we can load these tweo files back in, in order to combine them to take a simulated observation.\n",
    "\n",
    "### 📸 Combining Images  \n",
    "`exo.generate_combined_image()`:  \n",
    "- Overlays planet and star images  \n",
    "- Simulates a planetary system observation  \n",
    "- Handles image alignment automatically  "
   ]
  },
  {
   "cell_type": "code",
   "execution_count": null,
   "metadata": {},
   "outputs": [],
   "source": [
    "my_combined = exo.generate_combined_image(\"planets/myplanet.png\", \"stars/mystar.png\")\n"
   ]
  },
  {
   "cell_type": "code",
   "execution_count": null,
   "metadata": {},
   "outputs": [],
   "source": [
    "my_combined.save(\"combined/mycombined.png\")"
   ]
  },
  {
   "cell_type": "markdown",
   "metadata": {},
   "source": [
    "# Real Life Observations\n",
    "\n",
    "Remember from session 2, we could not actually spacially observe the star and planet system, so we were instead looking at the magnitude across different wavelengths. We can do this here in the simulation"
   ]
  },
  {
   "cell_type": "code",
   "execution_count": null,
   "metadata": {},
   "outputs": [],
   "source": [
    "colourmap = exo.default_colourmap()"
   ]
  },
  {
   "cell_type": "markdown",
   "metadata": {},
   "source": [
    "Load back in the observation we have saved, and then observe it's spectrum\n",
    "\n",
    "### 🔬 Spectral Analysis  \n",
    "`exo.generate_spectrum()`:  \n",
    "- Converts image colors to wavelength spectrum  \n",
    "- Plots intensity vs. wavelength  \n",
    "- Can save data as CSV for analysis  \n",
    "- Colorbar shows visible light spectrum (400-700nm)  "
   ]
  },
  {
   "cell_type": "code",
   "execution_count": null,
   "metadata": {},
   "outputs": [],
   "source": [
    "image_path = \"combined/mycombined.png\"\n",
    "exo.generate_spectrum(image_path)"
   ]
  },
  {
   "cell_type": "markdown",
   "metadata": {},
   "source": [
    "If we change the scale of the y axis to log, we can see more details"
   ]
  },
  {
   "cell_type": "code",
   "execution_count": null,
   "metadata": {},
   "outputs": [],
   "source": [
    "my_spectral_analysis = exo.generate_spectrum(image_path, y_axis_scale='log')"
   ]
  },
  {
   "cell_type": "markdown",
   "metadata": {},
   "source": [
    "### ✍️ Student Task: What is going on?\n",
    "\n",
    "Can you see where each of these features in the spectra comes from on the planet? Find the wavelength of the planet atmosphere from the graph"
   ]
  },
  {
   "cell_type": "raw",
   "metadata": {
    "vscode": {
     "languageId": "raw"
    }
   },
   "source": [
    "# the planet atmosphere has a wavelength of..."
   ]
  },
  {
   "cell_type": "markdown",
   "metadata": {},
   "source": [
    "---\n",
    "Now we can save this spectral data as a table."
   ]
  },
  {
   "cell_type": "code",
   "execution_count": null,
   "metadata": {},
   "outputs": [],
   "source": [
    "my_spectral_analysis.save(\"spectra/combinedspectralanalysis.csv\")"
   ]
  },
  {
   "cell_type": "markdown",
   "metadata": {},
   "source": [
    "If we use numpy, we can then load this table back in"
   ]
  },
  {
   "cell_type": "code",
   "execution_count": null,
   "metadata": {},
   "outputs": [],
   "source": [
    "x_ = np.loadtxt(\"spectra/combinedspectralanalysis.csv\", delimiter=\",\", skiprows=1)\n",
    "x_"
   ]
  },
  {
   "cell_type": "markdown",
   "metadata": {},
   "source": [
    "This is quite difficult to interpret, so lets look instead at some summary statistics"
   ]
  },
  {
   "cell_type": "code",
   "execution_count": null,
   "metadata": {},
   "outputs": [],
   "source": [
    "x_.shape"
   ]
  },
  {
   "cell_type": "markdown",
   "metadata": {},
   "source": [
    "this is 2 columns, wavelength (filter colour) and intensity, and 256 seperate wavelengths\n",
    "\n",
    "We can do the same observation for just the star - this is out observation taken when the planet is completely behind the star"
   ]
  },
  {
   "cell_type": "code",
   "execution_count": null,
   "metadata": {},
   "outputs": [],
   "source": [
    "star_path = \"stars/mystar.png\"\n",
    "star_analysis = exo.generate_spectrum(star_path, y_axis_scale='log')\n",
    "star_analysis.save(\"spectra/starspectralanalysis.csv\")"
   ]
  },
  {
   "cell_type": "markdown",
   "metadata": {},
   "source": [
    "instead of loading these back in from the disk, we can also just use the copies of the data that we have just generated directly. This is much faster with big datasets"
   ]
  },
  {
   "cell_type": "markdown",
   "metadata": {},
   "source": [
    "# 📈 Visualisation:\n",
    "We can create our own plots with much more control using a function called matplotlib.\n",
    "\n",
    "To create a plot use matplotlib's `plot` function \n",
    "\n",
    "**Plot the Data**: Use `plt.plot(x, y)` where `x` and `y` are arrays \n",
    "\n",
    "    These arrays **must be the same length** for it to work, as the correspond to pairs of coordinates\n",
    "\n",
    "**Control the look of the line** Use the syntax `\"<colour><linestyle>\"` to control how the plot looks.\n",
    "   \n",
    "Here are some examples of colours:\n",
    "- **`k`**: black\n",
    "- **`r`**: red\n",
    "- **`g`**: green\n",
    "- **`b`**: blue\n",
    "\n",
    "And some linestyles\n",
    "- **`-`**: solid line\n",
    "- **`--`**: dashed line\n",
    "- **`x`**: crosses\n",
    "- **`.`**: dots\n",
    "\n",
    "**Add Titles and Labels**: Label the axes and add a title for clarity using `plt.xlabel()`, `plt.ylabel()` and `plt.title()`\n",
    "\n",
    "**Display the Plot**: Call `plt.show()` to render the plot."
   ]
  },
  {
   "cell_type": "code",
   "execution_count": null,
   "metadata": {},
   "outputs": [],
   "source": [
    "\n",
    "# Generate mockup data points\n",
    "x = np.arange(0, 2 * np.pi, 0.1)\n",
    "y = np.sin(x)\n",
    "\n",
    "# Create the plot with a black dashed line\n",
    "plt.plot(x, y, \"k--\")\n",
    "\n",
    "# Add labels and title\n",
    "plt.xlabel('X-axis')\n",
    "plt.ylabel('Y-axis')\n",
    "plt.title('Sine Wave Plot')\n",
    "\n",
    "# Display the plot\n",
    "plt.show()\n"
   ]
  },
  {
   "cell_type": "markdown",
   "metadata": {},
   "source": [
    "### We can also plot multiple lines on one graph\n",
    "\n",
    "If we do this, use `label=\"<line name>\"` to specify which line is which\n",
    "\n",
    "after, also run `plt.legend()` to plot the legend"
   ]
  },
  {
   "cell_type": "code",
   "execution_count": null,
   "metadata": {},
   "outputs": [],
   "source": [
    "# Create the plot with a black solid line\n",
    "plt.plot(x, np.sin(x), \"kx\", label='Sine Wave')\n",
    "plt.plot(x, np.cos(x), \"r.\", label='Cosine Wave')\n",
    "\n",
    "plt.legend()\n",
    "\n",
    "# Add labels and title\n",
    "plt.xlabel('X-axis')\n",
    "plt.ylabel('Y-axis')\n",
    "plt.title('Trig Plot')\n",
    "\n",
    "# Display the plot\n",
    "plt.show()"
   ]
  },
  {
   "cell_type": "markdown",
   "metadata": {},
   "source": [
    "### ✍️ Student Task: Visualising Data\n",
    "\n",
    "lets use what we have learned to plot `my_spectral_analysis.wavelength` against `my_spectral_analysis.intensity`"
   ]
  },
  {
   "cell_type": "code",
   "execution_count": null,
   "metadata": {},
   "outputs": [],
   "source": [
    "plt.plot(# Your code here...\n",
    "    \n",
    "\n",
    "\n",
    "plt.yscale('log')\n",
    "exo.add_colorbar()"
   ]
  },
  {
   "cell_type": "markdown",
   "metadata": {},
   "source": [
    "### ✍️ Student Task: Background data\n",
    "\n",
    "Now that we have data for the planet and the star, and also data from just the star on its own, how would be subtract the background data to leave us with just the data from the planet?\n",
    "\n",
    "_Hint: you can get the intensity data from the star observation with `star_analysis.intensity`_"
   ]
  },
  {
   "cell_type": "code",
   "execution_count": null,
   "metadata": {},
   "outputs": [],
   "source": [
    "planet_intensity = # Your code here..."
   ]
  },
  {
   "cell_type": "markdown",
   "metadata": {},
   "source": [
    "Lets visualise this"
   ]
  },
  {
   "cell_type": "code",
   "execution_count": null,
   "metadata": {},
   "outputs": [],
   "source": [
    "\n",
    "plt.plot(\n",
    "    my_spectral_analysis.wavelength,\n",
    "    my_spectral_analysis.intensity,\n",
    "    \"r--\",\n",
    "    label='Raw Observation Data'\n",
    "    )\n",
    "\n",
    "plt.plot(\n",
    "    my_spectral_analysis.wavelength,\n",
    "    planet_intensity,\n",
    "    \"k-\",\n",
    "    label='Background Removed Data'\n",
    "    )\n",
    "\n",
    "plt.legend()\n",
    "\n",
    "exo.add_colorbar()\n",
    "\n",
    "plt.yscale('log')"
   ]
  },
  {
   "cell_type": "code",
   "execution_count": null,
   "metadata": {},
   "outputs": [],
   "source": [
    "for i in range(3):\n",
    "    \n",
    "    print(i)\n",
    "\n",
    "    exo.generate_single_planet(show_chemistry=True)"
   ]
  },
  {
   "cell_type": "markdown",
   "metadata": {},
   "source": [
    "lets generate a few more examples of water worlds"
   ]
  },
  {
   "cell_type": "code",
   "execution_count": null,
   "metadata": {},
   "outputs": [],
   "source": [
    "table_of_results = np.zeros((10, 256))\n",
    "\n",
    "for i in tqdm(range(10)):\n",
    "\n",
    "     planet = exo.generate_single_planet(atmosphere_type='h2o', show=False)\n",
    "     star = exo.generate_single_star(radius_range=(1, 1), show=False)\n",
    "     planet.save(f\"planets/planet_{i}.png\")\n",
    "     star.save(f\"stars/star_{i}.png\")\n",
    "\n",
    "     combined = exo.generate_combined_image(f\"planets/planet_{i}.png\", f\"stars/star_{i}.png\", show=False)\n",
    "     combined.save(f\"combined/combined_{i}.png\")\n",
    "\n",
    "     sigma_spectral_analysis = exo.generate_spectrum(f\"combined/combined_{i}.png\", show=False)\n",
    "     star_spectral_analysis = exo.generate_spectrum(f\"stars/star_{i}.png\", show=False)\n",
    "\n",
    "     planet_intensity = sigma_spectral_analysis.intensity - star_spectral_analysis.intensity\n",
    "    \n",
    "     table_of_results[i] = planet_intensity"
   ]
  },
  {
   "cell_type": "markdown",
   "metadata": {},
   "source": [
    "we can plot the spectra of these all at the same time to see the variation in their spectral features"
   ]
  },
  {
   "cell_type": "code",
   "execution_count": null,
   "metadata": {},
   "outputs": [],
   "source": [
    "for i in range(10):\n",
    "    plt.plot(\n",
    "        sigma_spectral_analysis.wavelength,\n",
    "        table_of_results[i],\n",
    "        )\n",
    "    \n",
    "plt.yscale('log')\n",
    "exo.add_colorbar()"
   ]
  },
  {
   "cell_type": "code",
   "execution_count": null,
   "metadata": {},
   "outputs": [],
   "source": [
    "np.savetxt(\"spectra/h2o_spectral_analysis.csv\", table_of_results, delimiter=',')"
   ]
  },
  {
   "cell_type": "markdown",
   "metadata": {},
   "source": [
    "### ✍️ Student Task: Wrapping our full experiment into a function.\n",
    "\n",
    " Can you write an explanation of what this function is doing? "
   ]
  },
  {
   "cell_type": "code",
   "execution_count": null,
   "metadata": {},
   "outputs": [],
   "source": [
    "def run_experiment(chemistry, n_samples=10):\n",
    "\n",
    "    table_of_results = np.zeros((n_samples, 256))\n",
    "\n",
    "    for i in tqdm(range(n_samples)):\n",
    "\n",
    "        planet = exo.generate_single_planet(atmosphere_type=chemistry, show=False)\n",
    "        star = exo.generate_single_star(radius_range=(1, 1), show=False)\n",
    "        planet.save(f\"planets/planet_{chemistry}_{i}.png\")\n",
    "        star.save(f\"stars/star_{chemistry}_{i}.png\")\n",
    "\n",
    "        combined = exo.generate_combined_image(f\"planets/planet_{chemistry}_{i}.png\", f\"stars/star_{chemistry}_{i}.png\", show=False)\n",
    "        combined.save(f\"combined/combined_{chemistry}_{i}.png\")\n",
    "\n",
    "        sigma_spectral_analysis = exo.generate_spectrum(f\"combined/combined_{chemistry}_{i}.png\", show=False)\n",
    "        star_spectral_analysis = exo.generate_spectrum(f\"stars/star_{chemistry}_{i}.png\", show=False)\n",
    "\n",
    "        planet_intensity = sigma_spectral_analysis.intensity - star_spectral_analysis.intensity\n",
    "        \n",
    "        table_of_results[i] = planet_intensity\n",
    "        \n",
    "    np.savetxt(f\"spectra/{chemistry}_spectral_analysis.csv\", table_of_results, delimiter=',')"
   ]
  },
  {
   "cell_type": "raw",
   "metadata": {
    "vscode": {
     "languageId": "raw"
    }
   },
   "source": [
    "# The function run_experiment() does the following..."
   ]
  },
  {
   "cell_type": "markdown",
   "metadata": {},
   "source": [
    "Lets now run the function and see! "
   ]
  },
  {
   "cell_type": "code",
   "execution_count": null,
   "metadata": {},
   "outputs": [],
   "source": [
    "run_experiment('co2', 15)\n",
    "run_experiment('ch4')"
   ]
  },
  {
   "cell_type": "markdown",
   "metadata": {},
   "source": [
    "now we have generated a few examples of each of the different types of chemistry, lets see if we can teach a computer how to differentiate between them. "
   ]
  },
  {
   "cell_type": "markdown",
   "metadata": {},
   "source": [
    "## Machine Learning Basics  \n",
    "**Classification** is a task where we predict categories (e.g., \"h2o\", \"co2\").  \n",
    "- A **Decision Tree** is an algorithm that makes predictions by learning rules from data.  \n",
    "- `training_data` contains example spectra, and `labels` are the correct categories.  \n",
    "\n",
    "\n",
    "### Example Workflow\n",
    "\n",
    "1. **Data Preparation**: Split your dataset into training and testing sets to evaluate model performance.\n",
    "2. **Model Training**:\n",
    "   ```python\n",
    "   classifier = DecisionTreeClassifier()\n",
    "   classifier.fit(training_data, training_labels)\n",
    "   ```\n",
    "3. **Evaluation**:\n",
    "   ```python\n",
    "   print(f\"Accuracy after training: {classifier.score(test_data, test_labels)}\")\n",
    "   ```\n",
    "4. **Prediction**: Use the model to make predictions with `classifier.predict()`\n",
    "5. **Visualization**: Use libraries like `matplotlib` to visualize the results\n"
   ]
  },
  {
   "cell_type": "markdown",
   "metadata": {},
   "source": [
    "First we need to load in the data"
   ]
  },
  {
   "cell_type": "code",
   "execution_count": null,
   "metadata": {},
   "outputs": [],
   "source": [
    "h2o = np.loadtxt(\"spectra/h2o_spectral_analysis.csv\", delimiter=',')\n",
    "co2 = np.loadtxt(\"spectra/co2_spectral_analysis.csv\", delimiter=',')\n",
    "ch4 = np.loadtxt(\"spectra/ch4_spectral_analysis.csv\", delimiter=',')\n",
    "\n",
    "training_data = np.vstack((h2o, co2, ch4))\n",
    "labels = np.array(['h2o']*len(h2o) + ['co2']*len(co2) + ['ch4']*len(ch4))"
   ]
  },
  {
   "cell_type": "markdown",
   "metadata": {},
   "source": [
    "### ✍️ Student Task: Combining the dataset\n",
    "\n",
    "Look at the output of the cell below. How many samples do we have? "
   ]
  },
  {
   "cell_type": "code",
   "execution_count": null,
   "metadata": {},
   "outputs": [],
   "source": [
    "print(training_data.shape)\n",
    "print(labels)"
   ]
  },
  {
   "cell_type": "code",
   "execution_count": null,
   "metadata": {},
   "outputs": [],
   "source": [
    "# zip together the data and labels and shuffle\n",
    "shuffled_data = list(zip(training_data, labels))\n",
    "np.random.shuffle(shuffled_data)\n",
    "\n",
    "# unzip the shuffled data\n",
    "shuffled_data, shuffled_labels = zip(*shuffled_data)"
   ]
  },
  {
   "cell_type": "markdown",
   "metadata": {},
   "source": [
    "### ✍️ Student Task: Randomness in machine learning\n",
    "\n",
    "Why might we need to shuffle the dataset? If we trained the machine learning algorithm using the data which was still in order what would be the risk?"
   ]
  },
  {
   "cell_type": "code",
   "execution_count": null,
   "metadata": {},
   "outputs": [],
   "source": [
    "print(shuffled_data.shape)\n",
    "print(shuffled_labels)"
   ]
  },
  {
   "cell_type": "code",
   "execution_count": null,
   "metadata": {},
   "outputs": [],
   "source": [
    "training_data = np.array(shuffled_data)[:20]\n",
    "training_labels = np.array(shuffled_labels)[:20]\n",
    "\n",
    "test_data = np.array(shuffled_data)[20:]\n",
    "test_labels = np.array(shuffled_labels)[20:]\n",
    "\n",
    "print('train')\n",
    "print(training_labels)\n",
    "\n",
    "print('test')\n",
    "print(test_labels)\n"
   ]
  },
  {
   "cell_type": "markdown",
   "metadata": {},
   "source": [
    "#### Next we can create and train the classifier!"
   ]
  },
  {
   "cell_type": "code",
   "execution_count": null,
   "metadata": {},
   "outputs": [],
   "source": [
    "# Create the classifier\n",
    "classifier = DecisionTreeClassifier()\n",
    "\n",
    "# Train the classifier on the training set\n",
    "classifier.fit(training_data, training_labels)"
   ]
  },
  {
   "cell_type": "markdown",
   "metadata": {},
   "source": [
    "To know how well the classifier has done, we can use a metric of accuracy from the training data."
   ]
  },
  {
   "cell_type": "code",
   "execution_count": null,
   "metadata": {},
   "outputs": [],
   "source": [
    "# Validate the classifier on the testing set using classification accuracy\n",
    "print(f\"Accuracy after training: {classifier.score(test_data, test_labels)}\")"
   ]
  },
  {
   "cell_type": "markdown",
   "metadata": {},
   "source": [
    "### ✍️ Student Task: Test Train Leakage\n",
    "Why do we split the data into training and testing sets.  \n",
    "What happens when we evaluate the model performance on the training set.\n",
    "Why might this be? \n",
    "\n",
    "#### Evaluate how well the model has performed using the testing dataset.\n",
    "_Hint: You will need to compare against `test_labels`_"
   ]
  },
  {
   "cell_type": "code",
   "execution_count": null,
   "metadata": {},
   "outputs": [],
   "source": [
    "test_predictions = classifier.predict(test_data)\n",
    "\n",
    "model_accuracy = # Your code here..."
   ]
  },
  {
   "cell_type": "markdown",
   "metadata": {},
   "source": [
    "# 💯 Model Evaluation:\n",
    "We can evaluate the performance of a model across different classes using something called a confusion grid. This shows where the model performed well, and where it performed worse, by comparing the actual value against the predicted one across all samples\n",
    "\n",
    "Looking at the grid below, which two types of atmosphere are the most similar to each opther and therefore easily confused? "
   ]
  },
  {
   "cell_type": "code",
   "execution_count": null,
   "metadata": {},
   "outputs": [],
   "source": [
    "# Unique classes\n",
    "classes = np.unique(np.concatenate((test_labels, test_predictions)))\n",
    "n_classes = len(classes)\n",
    "\n",
    "# Create a confusion grid\n",
    "grid = np.zeros((n_classes, n_classes), dtype=int)\n",
    "\n",
    "# Populate the grid\n",
    "for gt, pred in zip(test_labels, test_predictions):\n",
    "    x = np.where(classes == gt)[0][0]  # Ground truth index\n",
    "    y = np.where(classes == pred)[0][0]  # Predicted value index\n",
    "    grid[y, x] += 1\n",
    "\n",
    "# Plot the grid\n",
    "plt.figure(figsize=(6, 6))\n",
    "plt.imshow(grid, cmap='Blues', interpolation='nearest')\n",
    "plt.xticks(range(n_classes), classes, rotation=45)\n",
    "plt.yticks(range(n_classes), classes)\n",
    "plt.xlabel(\"Ground Truth\")\n",
    "plt.ylabel(\"Predicted\")\n",
    "plt.colorbar(label=\"Count\", shrink=0.74)\n",
    "\n",
    "for i in range(n_classes):\n",
    "    for j in range(n_classes):\n",
    "        plt.text(j, i, grid[i, j], ha='center', va='center', color='black')\n",
    "plt.tight_layout()\n",
    "plt.show()\n"
   ]
  },
  {
   "cell_type": "markdown",
   "metadata": {},
   "source": [
    "# 🌟 Task 1: Predict a Planet’s Atmosphere   🌟  \n",
    "---\n",
    "\n",
    "1. Generate a new planet.  \n",
    "2. Compute its spectrum.  \n",
    "3. Use your classifier to predict its atmosphere.  "
   ]
  },
  {
   "cell_type": "code",
   "execution_count": null,
   "metadata": {},
   "outputs": [],
   "source": [
    "planet = # generate your planet here...\n",
    "chemistry = planet.atmosphere_type\n",
    "print(f\"Actual atmosphere: {chemistry}\")\n",
    "star = # generate your star here...\n",
    "planet.save(f\"planets/planet_{chemistry}_temp.png\")\n",
    "star.save(f\"stars/star_{chemistry}_temp.png\")"
   ]
  },
  {
   "cell_type": "code",
   "execution_count": null,
   "metadata": {},
   "outputs": [],
   "source": [
    "combined = exo.generate_combined_image(f\"planets/planet_{chemistry}_temp.png\", f\"stars/star_{chemistry}_temp.png\", show=True)\n",
    "combined.save(f\"combined/combined_{chemistry}_temp.png\")\n",
    "\n",
    "sigma_spectral_analysis = exo.generate_spectrum(f\"combined/combined_{chemistry}_temp.png\", show=True, y_axis_scale='log')\n",
    "star_spectral_analysis = exo.generate_spectrum(f\"stars/star_{chemistry}_temp.png\", show=True, y_axis_scale='log')\n",
    "\n",
    "planet_intensity = # remove the star intensity from the observation"
   ]
  },
  {
   "cell_type": "code",
   "execution_count": null,
   "metadata": {},
   "outputs": [],
   "source": [
    "plt.plot(# Your code here...\n",
    "\n",
    "plt.legend()\n",
    "exo.add_colorbar()\n",
    "plt.yscale('log')"
   ]
  },
  {
   "cell_type": "code",
   "execution_count": null,
   "metadata": {},
   "outputs": [],
   "source": [
    "prediction = classifier.predict(planet_intensity.reshape(1, -1))\n",
    "\n",
    "print(# Your code here..."
   ]
  },
  {
   "cell_type": "markdown",
   "metadata": {},
   "source": [
    "# 🌟 Task 2: Enhancing Our Classifier with Uncertainty Predictions 🌟  \n",
    "---\n",
    "\n",
    "## Part 1: Why Uncertainty Matters  \n",
    "Our current model gives \"hard\" predictions (e.g., \"h2o\"), but real science requires understanding **confidence**.  \n",
    "**Your Task**:  \n",
    "1. Modify the classifier to output **probabilities** (e.g., 80% \"h2o\", 15% \"co2\", 5% \"ch4\").  \n",
    "\n",
    "2. Test this new model on edge cases, for example a **star with no planet** to see if it detects something unusual.  \n",
    "\n",
    "---\n",
    "\n",
    "## Step 1: Train a Probabilistic Model  \n",
    "**Replace the Decision Tree with a Random Forest** (a model that can estimate probabilities):  \n",
    "```\n",
    "from sklearn.ensemble import RandomForestClassifier  \n",
    "\n",
    "classifier = RandomForestClassifier()  \n",
    "classifier.fit(training_data, training_labels)"
   ]
  },
  {
   "cell_type": "code",
   "execution_count": null,
   "metadata": {},
   "outputs": [],
   "source": [
    "classifier = RandomForestClassifier(  \n",
    "    n_estimators=100,  # number of trees  \n",
    "    max_depth=10,      # Limit tree depth  \n",
    "    min_samples_split=5 # Require min samples to split  \n",
    ")  "
   ]
  },
  {
   "cell_type": "code",
   "execution_count": null,
   "metadata": {},
   "outputs": [],
   "source": [
    "classifier.fit(training_data, training_labels) "
   ]
  },
  {
   "cell_type": "markdown",
   "metadata": {},
   "source": [
    "_Hint: use `classifier.predict_proba(<data>)` to get probabilities out of a classifier_"
   ]
  },
  {
   "cell_type": "code",
   "execution_count": null,
   "metadata": {},
   "outputs": [],
   "source": [
    "probabilities = classifier.predict_proba(# Your code here..."
   ]
  },
  {
   "cell_type": "markdown",
   "metadata": {},
   "source": [
    "## 🧪 Testing Uncertainty Function\n",
    "Decide on a threshold for the model to declare that it is uncertain of a prediction.\n",
    "\n",
    "For example this should return \"ambiguous\"\n",
    "\n",
    "`print(calculate_uncertainty([0.3, 0.3, 0.4]))`  \n",
    "\n",
    "Test on real data\n",
    "\n",
    "\n"
   ]
  },
  {
   "cell_type": "code",
   "execution_count": null,
   "metadata": {},
   "outputs": [],
   "source": [
    "def calculate_uncertainty(probabilities):  \n",
    "    # Your code here...\n",
    "\n"
   ]
  },
  {
   "cell_type": "code",
   "execution_count": null,
   "metadata": {},
   "outputs": [],
   "source": [
    "# Test it  \n",
    "print(calculate_uncertainty([0.3, 0.3, 0.4]))  # Should return \"ambiguous\"  "
   ]
  }
 ],
 "metadata": {
  "kernelspec": {
   "display_name": "basic",
   "language": "python",
   "name": "python3"
  },
  "language_info": {
   "codemirror_mode": {
    "name": "ipython",
    "version": 3
   },
   "file_extension": ".py",
   "mimetype": "text/x-python",
   "name": "python",
   "nbconvert_exporter": "python",
   "pygments_lexer": "ipython3",
   "version": "3.13.2"
  }
 },
 "nbformat": 4,
 "nbformat_minor": 2
}
