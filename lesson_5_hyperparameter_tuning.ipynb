{
 "cells": [
  {
   "cell_type": "code",
   "execution_count": null,
   "metadata": {
    "vscode": {
     "languageId": "plaintext"
    }
   },
   "outputs": [],
   "source": [
    "import xarray as xr\n",
    "import numpy as np\n",
    "import matplotlib.pyplot as plt\n",
    "\n",
    "from sklearn.model_selection import train_test_split\n",
    "import torch\n",
    "import torch.nn as nn\n",
    "import torch.optim as optim\n",
    "from torch.utils.data import DataLoader, TensorDataset"
   ]
  },
  {
   "cell_type": "code",
   "execution_count": null,
   "metadata": {
    "vscode": {
     "languageId": "plaintext"
    }
   },
   "outputs": [],
   "source": [
    "! gdown https://drive.google.com/uc?id=1gl5W5PexON0wBfajUTPEkd9AiEnHo4rL -O data.hdf5"
   ]
  },
  {
   "cell_type": "code",
   "execution_count": null,
   "metadata": {
    "vscode": {
     "languageId": "plaintext"
    }
   },
   "outputs": [],
   "source": [
    "# open hdf5\n",
    "path ='/Users/jools/Documents/UCL/ARIEL/ariel_project_code/DATA/contribution_22_full.hdf5' #\"data.hdf5\"\n",
    "\n",
    "ds = xr.open_dataset(path)\n",
    "ds"
   ]
  },
  {
   "cell_type": "code",
   "execution_count": null,
   "metadata": {
    "vscode": {
     "languageId": "plaintext"
    }
   },
   "outputs": [],
   "source": [
    "i = 0\n",
    "\n",
    "# plt.plot(ds['wavelength'],ds['contributions'].sel(sample=i,species=['H2O']).values.T, label='H2O')\n",
    "\n",
    "plt.plot(ds['wavelength'],ds['spectrum'].sel(sample=i).values, \"k-\", label='observed spectrum')\n",
    "\n",
    "plt.errorbar(ds['wavelength'],ds['spectrum'].sel(sample=i).values,xerr=ds['bin_width']/2, yerr=ds['noise'].sel(sample=i).values, fmt='none', color='black', )\n",
    "\n",
    "\n",
    "plt.xlabel('wavelength')\n",
    "plt.ylabel('transit depth')\n",
    "\n",
    "axs = plt.gca()\n",
    "axs.set_xscale('log')\n",
    "axs.set_xticks([0.6, 1,1.5, 2, 2.5,3,4, 5, 6,8,])\n",
    "axs.get_xaxis().set_major_formatter(plt.ScalarFormatter())\n",
    "\n",
    "plt.title(f'sample {i}')\n",
    "plt.legend()\n",
    "\n",
    "\n",
    "# print the species present in the sample\n",
    "s_ = 'log_H2O'\n",
    "print(\"#\"*70)\n",
    "print(f\" Aundance of {s_} in planetary atmosphere for planet {i} is {ds[s_].sel(sample=i).values:.4f}\")\n",
    "print(\"#\"*70)"
   ]
  }
 ],
 "metadata": {
  "language_info": {
   "name": "python"
  }
 },
 "nbformat": 4,
 "nbformat_minor": 2
}
