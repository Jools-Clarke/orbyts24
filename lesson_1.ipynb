{
 "cells": [
  {
   "cell_type": "markdown",
   "metadata": {},
   "source": [
    "## Python: An Introduction\n",
    "\n",
    "This is a Jupyter Notebook, which is an interactive way to work with the programming language Python.\n",
    "\n",
    "Any code inside of a code cell can be run here as if you are running the cell in the terminal as a standalone `.py` file"
   ]
  },
  {
   "cell_type": "code",
   "execution_count": null,
   "metadata": {},
   "outputs": [],
   "source": [
    "# this is a comment, preceded by a hastag - this line will not be treated as code\n",
    "\n",
    "print(\"Hello World\") # <- this is a print statement, allowing us to output text to the screen"
   ]
  },
  {
   "cell_type": "markdown",
   "metadata": {},
   "source": [
    "How about if we want to do something a little bit more dynamic?"
   ]
  },
  {
   "cell_type": "code",
   "execution_count": null,
   "metadata": {},
   "outputs": [],
   "source": [
    "message = \"Hello World\" # <- this is a variable, which stores a value\n",
    "\n",
    "print(message) # <- this will output the value of the variable to the screen"
   ]
  },
  {
   "cell_type": "markdown",
   "metadata": {},
   "source": [
    "There are lots of different types of variables, which all behave slightly differently"
   ]
  },
  {
   "cell_type": "code",
   "execution_count": null,
   "metadata": {},
   "outputs": [],
   "source": [
    "a = \"Five\" # <- this is a string, a sequence of characters\n",
    "b = 5 # <- this is an integer, a whole number\n",
    "c = 5.0 # <- this is a float, floating point or rather, a decimal number\n",
    "\n",
    "d = b + c # <- we can assign a new variable to the result of an operation\n",
    "\n",
    "print(d) "
   ]
  },
  {
   "cell_type": "markdown",
   "metadata": {},
   "source": [
    "What will happen if we do `a + b` ?"
   ]
  },
  {
   "cell_type": "code",
   "execution_count": null,
   "metadata": {},
   "outputs": [],
   "source": []
  },
  {
   "cell_type": "markdown",
   "metadata": {},
   "source": [
    "We can use python as a calculator"
   ]
  },
  {
   "cell_type": "code",
   "execution_count": null,
   "metadata": {},
   "outputs": [],
   "source": [
    "a, b, c = 1, 5, 3 # <- we can assign multiple variables at once\n",
    "\n",
    "x_1 = ( (-b) + (b**2 - 4*a*c)**0.5 ) / 2*a \n",
    "x_2 = ( (-b) - (b**2 - 4*a*c)**0.5 ) / 2*a\n",
    "\n",
    "print(x_1, x_2) # <- this will output the two solutions to the quadratic equation"
   ]
  },
  {
   "cell_type": "code",
   "execution_count": null,
   "metadata": {},
   "outputs": [],
   "source": [
    "# this is an f-string, allowing us to insert variables into a string\n",
    "print(f\"The solutions to the quadratic equation are {x_1:.4f} and {x_2:.4f}\") "
   ]
  },
  {
   "cell_type": "markdown",
   "metadata": {},
   "source": [
    "What about if we want to calculate the solutions to the quadratic equation over and over again? \n",
    "\n",
    "We can define a function, which is a wrapper for a specific set of instructions which we need to use frequently"
   ]
  },
  {
   "cell_type": "code",
   "execution_count": null,
   "metadata": {},
   "outputs": [],
   "source": [
    "def quadratic_solver(a, b, c): # <- this is a function, which takes inputs or arguments\n",
    "    x_1 = ( (-b) + (b**2 - 4*a*c)**0.5 ) / 2*a \n",
    "    x_2 = ( (-b) - (b**2 - 4*a*c)**0.5 ) / 2*a\n",
    "    print(f\"The solutions to the quadratic equation are {x_1:.4f} and {x_2:.4f}\") "
   ]
  },
  {
   "cell_type": "code",
   "execution_count": null,
   "metadata": {},
   "outputs": [],
   "source": [
    "quadratic_solver(1, 9, 1) # <- this will call the function"
   ]
  },
  {
   "cell_type": "markdown",
   "metadata": {},
   "source": [
    "A function can also return values to be used in a subsequent operation"
   ]
  },
  {
   "cell_type": "code",
   "execution_count": null,
   "metadata": {},
   "outputs": [],
   "source": [
    "def this_function_makes_pie(): # <- a function doesnt always need to take arguments\n",
    "\n",
    "    # lets calculate an approximation of pi\n",
    "    pi = 355/113 \n",
    "\n",
    "    return pi # <- this will return the value\n",
    "\n",
    "pi = this_function_makes_pie() \n",
    "\n",
    "print(3*pi)"
   ]
  },
  {
   "cell_type": "markdown",
   "metadata": {},
   "source": [
    "We can do some pretty complicated operations inside a function. For example, lets get a function which generates a simulation of a planet\n",
    "\n",
    "First, we need to import the code for the function from a seperate library"
   ]
  },
  {
   "cell_type": "code",
   "execution_count": null,
   "metadata": {},
   "outputs": [],
   "source": [
    "import planet_visualiser as exo # <- this is how we import a module"
   ]
  },
  {
   "cell_type": "markdown",
   "metadata": {},
   "source": [
    "Then we can run the function (try running the cell multiple times)"
   ]
  },
  {
   "cell_type": "code",
   "execution_count": null,
   "metadata": {},
   "outputs": [],
   "source": [
    "# this will call the function generate_single_planet, which we are telling python that it is in the module exo\n",
    "exo.generate_single_planet() "
   ]
  },
  {
   "cell_type": "markdown",
   "metadata": {},
   "source": [
    "Create a function which returns the solutions of the quadratic equation"
   ]
  },
  {
   "cell_type": "code",
   "execution_count": null,
   "metadata": {},
   "outputs": [],
   "source": []
  },
  {
   "cell_type": "markdown",
   "metadata": {},
   "source": [
    "Now we can use this to calculate solutions for 5 examples in one go by putting the inputs into a matrix\n",
    "\n",
    "First we need to import a specific set of instructions on how to handle a matrix from an external package called numpy"
   ]
  },
  {
   "cell_type": "code",
   "execution_count": null,
   "metadata": {},
   "outputs": [],
   "source": [
    "import numpy as np"
   ]
  },
  {
   "cell_type": "markdown",
   "metadata": {},
   "source": [
    "we will need some other packages later as well so lets import them here in advance"
   ]
  },
  {
   "cell_type": "code",
   "execution_count": null,
   "metadata": {},
   "outputs": [],
   "source": [
    "import matplotlib as mpl\n",
    "import matplotlib.pyplot as plt\n",
    "from tqdm import tqdm\n",
    "\n",
    "from sklearn.tree import DecisionTreeClassifier"
   ]
  },
  {
   "cell_type": "code",
   "execution_count": null,
   "metadata": {},
   "outputs": [],
   "source": [
    "parameters = np.array([ [1,9,1],\n",
    "                        [1,5,3],\n",
    "                        [2,8,3],\n",
    "                        [1,3,2],\n",
    "                        [2,6,2] ])\n",
    "\n",
    "parameters # <- this will output the array to the screen, this is a shortcut for print() we can use in Jupyter"
   ]
  },
  {
   "cell_type": "markdown",
   "metadata": {},
   "source": [
    "modify this code to instead calculate and print the solutions to the quadratic formula"
   ]
  },
  {
   "cell_type": "code",
   "execution_count": null,
   "metadata": {},
   "outputs": [],
   "source": [
    "for row in parameters: # <- this is a loop, which will iterate over each row in the array\n",
    "    print(row) # <- this will output each row to the screen"
   ]
  },
  {
   "cell_type": "markdown",
   "metadata": {},
   "source": [
    "we can then use the function you created to save these soutions instead"
   ]
  },
  {
   "cell_type": "code",
   "execution_count": null,
   "metadata": {},
   "outputs": [],
   "source": [
    "# first create an empty matric in which to store the results\n",
    "results = np.zeros((5, 2))\n",
    "\n",
    "results"
   ]
  },
  {
   "cell_type": "code",
   "execution_count": null,
   "metadata": {},
   "outputs": [],
   "source": [
    "#then we can input a value into this empty matrix by specifying its position\n",
    "\n",
    "results[0, 1] = 1 # <- this will input the value 1 into the first row, second column\n",
    "results[3] = [2,5] # <- this will input the values 2 and 5 into the fourth row\n",
    "\n",
    "results"
   ]
  },
  {
   "cell_type": "markdown",
   "metadata": {},
   "source": [
    "modify this code to save the solutions"
   ]
  },
  {
   "cell_type": "code",
   "execution_count": null,
   "metadata": {},
   "outputs": [],
   "source": [
    "for i, row in enumerate(parameters): # <- this loop will iterate over each row, and also output the index as i\n",
    "    print(i, row)"
   ]
  },
  {
   "cell_type": "markdown",
   "metadata": {},
   "source": [
    "we can also do this whole process much faster as one matrix transformation like this"
   ]
  },
  {
   "cell_type": "code",
   "execution_count": null,
   "metadata": {},
   "outputs": [],
   "source": [
    "# we can also do this whole process as one matrix transformation like so\n",
    "p = parameters\n",
    "results = np.array([( (-p[:,1]) + (p[:,1]**2 - 4*p[:,0]*p[:,2])**0.5 ) / 2*p[:,0],\n",
    "              ( (-p[:,1]) - (p[:,1]**2 - 4*p[:,0]*p[:,2])**0.5 ) / 2*p[:,0]]).T\n",
    "\n",
    "results"
   ]
  },
  {
   "cell_type": "markdown",
   "metadata": {},
   "source": []
  },
  {
   "cell_type": "markdown",
   "metadata": {},
   "source": [
    "## Using Python as a tool for Exoplanet Analysis\n",
    "\n",
    "Lets generate a sample of planets"
   ]
  },
  {
   "cell_type": "code",
   "execution_count": null,
   "metadata": {},
   "outputs": [],
   "source": [
    "exo.generate_planet_grid()"
   ]
  },
  {
   "cell_type": "markdown",
   "metadata": {},
   "source": [
    "Without light, we wouldnt be able to see these planets, so lets generate some light"
   ]
  },
  {
   "cell_type": "code",
   "execution_count": null,
   "metadata": {},
   "outputs": [],
   "source": [
    "exo.generate_single_star()"
   ]
  },
  {
   "cell_type": "markdown",
   "metadata": {},
   "source": [
    "And now a whole load more..."
   ]
  },
  {
   "cell_type": "code",
   "execution_count": null,
   "metadata": {},
   "outputs": [],
   "source": [
    "exo.generate_star_grid()"
   ]
  },
  {
   "cell_type": "markdown",
   "metadata": {},
   "source": [
    "If we modify the magnification of the star, we can see some of the details of the stellar surface more clearly"
   ]
  },
  {
   "cell_type": "code",
   "execution_count": null,
   "metadata": {},
   "outputs": [],
   "source": [
    "exo.generate_star_grid(radius_range=(1, 1))"
   ]
  },
  {
   "cell_type": "markdown",
   "metadata": {},
   "source": [
    "Lets generate a single planet, and save this planet to a variable so we can use it later"
   ]
  },
  {
   "cell_type": "code",
   "execution_count": null,
   "metadata": {},
   "outputs": [],
   "source": [
    "my_planet = exo.generate_single_planet()"
   ]
  },
  {
   "cell_type": "markdown",
   "metadata": {},
   "source": [
    "We can also save it to the disk as a file"
   ]
  },
  {
   "cell_type": "code",
   "execution_count": null,
   "metadata": {},
   "outputs": [],
   "source": [
    "my_planet.save(\"planets/myplanet.png\")"
   ]
  },
  {
   "cell_type": "markdown",
   "metadata": {},
   "source": [
    "We can do the same thing with a star"
   ]
  },
  {
   "cell_type": "code",
   "execution_count": null,
   "metadata": {},
   "outputs": [],
   "source": [
    "my_star = exo.generate_single_star(radius_range=(1, 1))"
   ]
  },
  {
   "cell_type": "code",
   "execution_count": null,
   "metadata": {},
   "outputs": [],
   "source": [
    "my_star.save(\"stars/mystar.png\")"
   ]
  },
  {
   "cell_type": "markdown",
   "metadata": {},
   "source": [
    "Now we can load these tweo files back in, in order to combine them to take a simulated observation."
   ]
  },
  {
   "cell_type": "code",
   "execution_count": null,
   "metadata": {},
   "outputs": [],
   "source": [
    "my_combined = exo.generate_combined_image(\"planets/myplanet.png\", \"stars/mystar.png\")\n"
   ]
  },
  {
   "cell_type": "code",
   "execution_count": null,
   "metadata": {},
   "outputs": [],
   "source": [
    "my_combined.save(\"combined/mycombined.png\")"
   ]
  },
  {
   "cell_type": "markdown",
   "metadata": {},
   "source": [
    "# Real Life Observations\n",
    "\n",
    "Remember from last session, we could not actually spacially observe the star and planet system, so we were instead looking at the magnitude across different wavelengths. We can do this here in the simulation"
   ]
  },
  {
   "cell_type": "code",
   "execution_count": null,
   "metadata": {},
   "outputs": [],
   "source": [
    "colourmap = exo.default_colourmap()"
   ]
  },
  {
   "cell_type": "markdown",
   "metadata": {},
   "source": [
    "Load back in the observation we have saved, and then observe it's spectrum"
   ]
  },
  {
   "cell_type": "code",
   "execution_count": null,
   "metadata": {},
   "outputs": [],
   "source": [
    "image_path = \"combined/mycombined.png\"\n",
    "exo.generate_spectrum(image_path)"
   ]
  },
  {
   "cell_type": "markdown",
   "metadata": {},
   "source": [
    "If we change the scale of the y axis to log, we can see more details"
   ]
  },
  {
   "cell_type": "code",
   "execution_count": null,
   "metadata": {},
   "outputs": [],
   "source": [
    "my_spectral_analysis = exo.generate_spectrum(image_path, y_axis_scale='log')"
   ]
  },
  {
   "cell_type": "markdown",
   "metadata": {},
   "source": [
    "Now we can save this data as a table."
   ]
  },
  {
   "cell_type": "code",
   "execution_count": null,
   "metadata": {},
   "outputs": [],
   "source": [
    "my_spectral_analysis.save(\"spectra/combinedspectralanalysis.csv\")"
   ]
  },
  {
   "cell_type": "markdown",
   "metadata": {},
   "source": [
    "If we use numpy, we can then load this table back in"
   ]
  },
  {
   "cell_type": "code",
   "execution_count": null,
   "metadata": {},
   "outputs": [],
   "source": [
    "x_ = np.loadtxt(\"spectra/combinedspectralanalysis.csv\", delimiter=\",\", skiprows=1)\n",
    "x_"
   ]
  },
  {
   "cell_type": "markdown",
   "metadata": {},
   "source": [
    "This is quite difficult to interpret, so lets look instead at some summary statistics"
   ]
  },
  {
   "cell_type": "code",
   "execution_count": null,
   "metadata": {},
   "outputs": [],
   "source": [
    "x_.shape"
   ]
  },
  {
   "cell_type": "markdown",
   "metadata": {},
   "source": [
    "this is 2 columns, wavelength (filter colour) and intensity, and 256 seperate wavelengths\n",
    "\n",
    "We can do the same observation for just the star - this is out observation taken when the planet is completely behind the star"
   ]
  },
  {
   "cell_type": "code",
   "execution_count": null,
   "metadata": {},
   "outputs": [],
   "source": [
    "star_path = \"stars/mystar.png\"\n",
    "star_analysis = exo.generate_spectrum(star_path, y_axis_scale='log')\n",
    "star_analysis.save(\"spectra/starspectralanalysis.csv\")"
   ]
  },
  {
   "cell_type": "markdown",
   "metadata": {},
   "source": [
    "instead of loading these back in from the disk, we can also just use the copies of the data that we have just generated directly. This is much faster with big datasets\n",
    "\n",
    "Let's treat our observation of the star as background, and subtract it from the observation"
   ]
  },
  {
   "cell_type": "code",
   "execution_count": null,
   "metadata": {},
   "outputs": [],
   "source": [
    "planet_intensity = my_spectral_analysis.intensity - star_analysis.intensity"
   ]
  },
  {
   "cell_type": "markdown",
   "metadata": {},
   "source": [
    "We can visualise this using matplotlib"
   ]
  },
  {
   "cell_type": "code",
   "execution_count": null,
   "metadata": {},
   "outputs": [],
   "source": [
    "plt.plot(\n",
    "    my_spectral_analysis.wavelength,\n",
    "    planet_intensity,\n",
    "    \"k-\"\n",
    "    )\n",
    "\n",
    "exo.add_colorbar()"
   ]
  },
  {
   "cell_type": "code",
   "execution_count": null,
   "metadata": {},
   "outputs": [],
   "source": [
    "planet_intensity = my_spectral_analysis.intensity - star_analysis.intensity\n",
    "\n",
    "plt.plot(\n",
    "    my_spectral_analysis.wavelength,\n",
    "    my_spectral_analysis.intensity,\n",
    "    \"r-.\",\n",
    "    label=r'$\\Sigma$'\n",
    "    )\n",
    "\n",
    "plt.plot(\n",
    "    my_spectral_analysis.wavelength,\n",
    "    planet_intensity,\n",
    "    \"k\",\n",
    "    label=r'$\\Delta$'\n",
    "    )\n",
    "\n",
    "plt.legend()\n",
    "\n",
    "exo.add_colorbar()\n",
    "\n",
    "plt.yscale('log')"
   ]
  },
  {
   "cell_type": "code",
   "execution_count": null,
   "metadata": {},
   "outputs": [],
   "source": [
    "for i in range(3):\n",
    "    \n",
    "    print(i)\n",
    "\n",
    "    exo.generate_single_planet(show_chemistry=True)"
   ]
  },
  {
   "cell_type": "code",
   "execution_count": null,
   "metadata": {},
   "outputs": [],
   "source": [
    "table_of_results = np.zeros((10, 256))\n",
    "\n",
    "for i in tqdm(range(10)):\n",
    "\n",
    "     planet = exo.generate_single_planet(atmosphere_type='h2o', show=False)\n",
    "     star = exo.generate_single_star(radius_range=(1, 1), show=False)\n",
    "     planet.save(f\"planets/planet_{i}.png\")\n",
    "     star.save(f\"stars/star_{i}.png\")\n",
    "\n",
    "     combined = exo.generate_combined_image(f\"planets/planet_{i}.png\", f\"stars/star_{i}.png\", show=False)\n",
    "     combined.save(f\"combined/combined_{i}.png\")\n",
    "\n",
    "     sigma_spectral_analysis = exo.generate_spectrum(f\"combined/combined_{i}.png\", show=False)\n",
    "     star_spectral_analysis = exo.generate_spectrum(f\"stars/star_{i}.png\", show=False)\n",
    "\n",
    "     planet_intensity = sigma_spectral_analysis.intensity - star_spectral_analysis.intensity\n",
    "    \n",
    "     table_of_results[i] = planet_intensity"
   ]
  },
  {
   "cell_type": "code",
   "execution_count": null,
   "metadata": {},
   "outputs": [],
   "source": [
    "for i in range(10):\n",
    "    plt.plot(\n",
    "        sigma_spectral_analysis.wavelength,\n",
    "        table_of_results[i],\n",
    "        )\n",
    "    \n",
    "plt.yscale('log')\n",
    "exo.add_colorbar()"
   ]
  },
  {
   "cell_type": "code",
   "execution_count": null,
   "metadata": {},
   "outputs": [],
   "source": [
    "np.savetxt(\"spectra/h2o_spectral_analysis.csv\", table_of_results, delimiter=',')"
   ]
  },
  {
   "cell_type": "code",
   "execution_count": null,
   "metadata": {},
   "outputs": [],
   "source": [
    "def run_experiment(chemistry, n_samples=10):\n",
    "\n",
    "    table_of_results = np.zeros((n_samples, 256))\n",
    "\n",
    "    for i in tqdm(range(n_samples)):\n",
    "\n",
    "        planet = exo.generate_single_planet(atmosphere_type=chemistry, show=False)\n",
    "        star = exo.generate_single_star(radius_range=(1, 1), show=False)\n",
    "        planet.save(f\"planets/planet_{chemistry}_{i}.png\")\n",
    "        star.save(f\"stars/star_{chemistry}_{i}.png\")\n",
    "\n",
    "        combined = exo.generate_combined_image(f\"planets/planet_{chemistry}_{i}.png\", f\"stars/star_{chemistry}_{i}.png\", show=False)\n",
    "        combined.save(f\"combined/combined_{chemistry}_{i}.png\")\n",
    "\n",
    "        sigma_spectral_analysis = exo.generate_spectrum(f\"combined/combined_{chemistry}_{i}.png\", show=False)\n",
    "        star_spectral_analysis = exo.generate_spectrum(f\"stars/star_{chemistry}_{i}.png\", show=False)\n",
    "\n",
    "        planet_intensity = sigma_spectral_analysis.intensity - star_spectral_analysis.intensity\n",
    "        \n",
    "        table_of_results[i] = planet_intensity\n",
    "        \n",
    "    np.savetxt(f\"spectra/{chemistry}_spectral_analysis.csv\", table_of_results, delimiter=',')"
   ]
  },
  {
   "cell_type": "code",
   "execution_count": null,
   "metadata": {},
   "outputs": [],
   "source": [
    "run_experiment('co2', 15)\n",
    "run_experiment('ch4')"
   ]
  },
  {
   "cell_type": "code",
   "execution_count": null,
   "metadata": {},
   "outputs": [],
   "source": [
    "h2o = np.loadtxt(\"spectra/h2o_spectral_analysis.csv\", delimiter=',')\n",
    "co2 = np.loadtxt(\"spectra/co2_spectral_analysis.csv\", delimiter=',')\n",
    "ch4 = np.loadtxt(\"spectra/ch4_spectral_analysis.csv\", delimiter=',')\n",
    "\n",
    "training_data = np.vstack((h2o, co2, ch4))\n",
    "labels = np.array(['h2o']*len(h2o) + ['co2']*len(co2) + ['ch4']*len(ch4))"
   ]
  },
  {
   "cell_type": "code",
   "execution_count": null,
   "metadata": {},
   "outputs": [],
   "source": [
    "print(training_data.shape)\n",
    "print(labels)"
   ]
  },
  {
   "cell_type": "code",
   "execution_count": null,
   "metadata": {},
   "outputs": [],
   "source": [
    "# zip together the data and labels and shuffle\n",
    "shuffled_data = list(zip(training_data, labels))\n",
    "np.random.shuffle(shuffled_data)\n",
    "\n",
    "# unzip the shuffled data\n",
    "shuffled_data, shuffled_labels = zip(*shuffled_data)"
   ]
  },
  {
   "cell_type": "code",
   "execution_count": null,
   "metadata": {},
   "outputs": [],
   "source": [
    "training_data = np.array(shuffled_data)[:20]\n",
    "training_labels = np.array(shuffled_labels)[:20]\n",
    "\n",
    "test_data = np.array(shuffled_data)[20:]\n",
    "test_labels = np.array(shuffled_labels)[20:]\n",
    "\n",
    "print('train')\n",
    "print(training_labels)\n",
    "\n",
    "print('test')\n",
    "print(test_labels)\n"
   ]
  },
  {
   "cell_type": "code",
   "execution_count": null,
   "metadata": {},
   "outputs": [],
   "source": [
    "# Create the classifier\n",
    "classifier = DecisionTreeClassifier()\n",
    "\n",
    "# Train the classifier on the training set\n",
    "classifier.fit(training_data, training_labels)\n",
    "\n",
    "# Validate the classifier on the testing set using classification accuracy\n",
    "print(f\"Accuracy after training: {classifier.score(test_data, test_labels)}\")\n"
   ]
  },
  {
   "cell_type": "code",
   "execution_count": null,
   "metadata": {},
   "outputs": [],
   "source": [
    "test_predictions = classifier.predict(test_data)\n",
    "\n",
    "print(test_predictions)"
   ]
  },
  {
   "cell_type": "code",
   "execution_count": null,
   "metadata": {},
   "outputs": [],
   "source": [
    "# Unique classes\n",
    "classes = np.unique(np.concatenate((test_labels, test_predictions)))\n",
    "n_classes = len(classes)\n",
    "\n",
    "# Create a confusion grid\n",
    "grid = np.zeros((n_classes, n_classes), dtype=int)\n",
    "\n",
    "# Populate the grid\n",
    "for gt, pred in zip(test_labels, test_predictions):\n",
    "    x = np.where(classes == gt)[0][0]  # Ground truth index\n",
    "    y = np.where(classes == pred)[0][0]  # Predicted value index\n",
    "    grid[y, x] += 1\n",
    "\n",
    "# Plot the grid\n",
    "plt.figure(figsize=(6, 6))\n",
    "plt.imshow(grid, cmap='Blues', interpolation='nearest')\n",
    "plt.xticks(range(n_classes), classes, rotation=45)\n",
    "plt.yticks(range(n_classes), classes)\n",
    "plt.xlabel(\"Ground Truth\")\n",
    "plt.ylabel(\"Predicted\")\n",
    "plt.colorbar(label=\"Count\", shrink=0.74)\n",
    "\n",
    "for i in range(n_classes):\n",
    "    for j in range(n_classes):\n",
    "        plt.text(j, i, grid[i, j], ha='center', va='center', color='black')\n",
    "plt.tight_layout()\n",
    "plt.show()\n"
   ]
  },
  {
   "cell_type": "code",
   "execution_count": null,
   "metadata": {},
   "outputs": [],
   "source": [
    "planet = exo.generate_single_planet()\n",
    "chemistry = planet.atmosphere_type\n",
    "print(f\"Actual atmosphere: {chemistry}\")\n",
    "star = exo.generate_single_star(radius_range=(1, 1), show=True)\n",
    "planet.save(f\"planets/planet_{chemistry}_temp.png\")\n",
    "star.save(f\"stars/star_{chemistry}_temp.png\")\n",
    "\n",
    "combined = exo.generate_combined_image(f\"planets/planet_{chemistry}_temp.png\", f\"stars/star_{chemistry}_temp.png\", show=True)\n",
    "combined.save(f\"combined/combined_{chemistry}_temp.png\")\n",
    "\n",
    "sigma_spectral_analysis = exo.generate_spectrum(f\"combined/combined_{chemistry}_temp.png\", show=True, y_axis_scale='log')\n",
    "star_spectral_analysis = exo.generate_spectrum(f\"stars/star_{chemistry}_temp.png\", show=True, y_axis_scale='log')\n",
    "\n",
    "planet_intensity = sigma_spectral_analysis.intensity - star_spectral_analysis.intensity\n",
    "\n",
    "plt.plot(\n",
    "    my_spectral_analysis.wavelength,\n",
    "    my_spectral_analysis.intensity,\n",
    "    \"r-.\",\n",
    "    label=r'$\\Sigma$'\n",
    "    )\n",
    "\n",
    "plt.plot(\n",
    "    my_spectral_analysis.wavelength,\n",
    "    planet_intensity,\n",
    "    \"k\",\n",
    "    label=r'$\\Delta$'\n",
    "    )\n",
    "\n",
    "plt.legend()\n",
    "\n",
    "exo.add_colorbar()\n",
    "\n",
    "plt.yscale('log')\n",
    "\n",
    "prediction = classifier.predict(planet_intensity.reshape(1, -1))\n",
    "\n",
    "print(f\"Predicted atmosphere: {prediction[0]}\")"
   ]
  },
  {
   "cell_type": "code",
   "execution_count": null,
   "metadata": {},
   "outputs": [],
   "source": []
  }
 ],
 "metadata": {
  "kernelspec": {
   "display_name": "Python 3",
   "language": "python",
   "name": "python3"
  },
  "language_info": {
   "codemirror_mode": {
    "name": "ipython",
    "version": 3
   },
   "file_extension": ".py",
   "mimetype": "text/x-python",
   "name": "python",
   "nbconvert_exporter": "python",
   "pygments_lexer": "ipython3",
   "version": "3.12.3"
  }
 },
 "nbformat": 4,
 "nbformat_minor": 2
}
