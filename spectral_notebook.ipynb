{
  "cells": [
    {
      "cell_type": "markdown",
      "metadata": {
        "id": "view-in-github",
        "colab_type": "text"
      },
      "source": [
        "<a href=\"https://colab.research.google.com/github/Jools-Clarke/orbyts24/blob/main/spectral_notebook.ipynb\" target=\"_parent\"><img src=\"https://colab.research.google.com/assets/colab-badge.svg\" alt=\"Open In Colab\"/></a>"
      ]
    },
    {
      "cell_type": "markdown",
      "metadata": {
        "id": "Ba6F80Ho_f0W"
      },
      "source": [
        "### Hidden Backend"
      ]
    },
    {
      "cell_type": "code",
      "execution_count": null,
      "metadata": {
        "id": "OG1oGhku_f0Y"
      },
      "outputs": [],
      "source": [
        "import matplotlib.pyplot as plt\n",
        "import numpy as np\n",
        "import random\n",
        "from matplotlib.patches import Circle, Arc\n",
        "\n",
        "import os\n",
        "import PIL\n",
        "from PIL import Image, ImageFilter\n",
        "from matplotlib import cm\n",
        "from matplotlib.colors import Normalize\n",
        "\n",
        "import matplotlib as mpl\n",
        "from tqdm import tqdm\n",
        "\n",
        "from sklearn.tree import DecisionTreeClassifier\n",
        "\n",
        "\n",
        "def get_rgb_color(value, clmap):\n",
        "    rgb = clmap(value)[:3]  # Get RGB values from the colormap\n",
        "    rgb = [int(x * 255) for x in rgb]  # Scale RGB values to 0-255 range\n",
        "    color_code = f\"#{rgb[0]:02x}{rgb[1]:02x}{rgb[2]:02x}\"  # Convert RGB values to hexadecimal string\n",
        "    return color_code\n",
        "\n",
        "\n",
        "def test_colormap(cmap):\n",
        "\n",
        "    # Create a figure and an axis for the colorbar\n",
        "    fig, ax = plt.subplots(figsize=(8, 1))\n",
        "    fig.subplots_adjust(bottom=0.5)\n",
        "\n",
        "    # Create a horizontal colorbar\n",
        "    norm = mpl.colors.Normalize(vmin=0, vmax=1)\n",
        "    cb = mpl.colorbar.ColorbarBase(ax, cmap=cmap, norm=norm, orientation='horizontal')\n",
        "\n",
        "    # Set colorbar ticks and label\n",
        "    cb.set_ticks([0, 0.25, 0.5, 0.75, 1.0])\n",
        "    cb.set_label(\"Wavelength (nm)\\n[colour]\")\n",
        "    # cb.set_ticks([0.18,0.4,0.62,0.84])\n",
        "    # cb.set_ticklabels([400,500,600,700])\n",
        "    # cb.ax.set_xlim(0.15,0.85)\n",
        "\n",
        "    # Show the plot\n",
        "    plt.show()\n",
        "\n",
        "\n",
        "def default_colourmap(plot=True):\n",
        "    clmap = plt.get_cmap(\"nipy_spectral\")\n",
        "    if plot:\n",
        "        test_colormap(clmap)\n",
        "\n",
        "    return clmap\n",
        "\n",
        "\n",
        "def generate_planet(ax, atmosphere_type, clmap=default_colourmap(plot=False)):\n",
        "    \"\"\"\n",
        "    Draws a cartoon planet with multiple rings that appear to go behind and in front of the planet.\n",
        "    \"\"\"\n",
        "    # Set colors based on atmosphere type\n",
        "    if atmosphere_type == \"h2o\":\n",
        "        color = get_rgb_color(np.random.randint(20,38)/100, clmap)\n",
        "        ring_color = get_rgb_color(0.40, clmap)\n",
        "    elif atmosphere_type == \"co2\":\n",
        "        color = get_rgb_color(np.random.randint(75,85)/100, clmap)\n",
        "        ring_color = get_rgb_color(0.70, clmap)\n",
        "    elif atmosphere_type == \"ch4\":\n",
        "        color = get_rgb_color(np.random.randint(45,55)/100, clmap)\n",
        "        ring_color = get_rgb_color(0.40, clmap)\n",
        "\n",
        "    # Planet radius\n",
        "    planet_radius = random.uniform(0.22, 0.4)\n",
        "    atmosphere_depth = random.uniform(0.01, 0.1)\n",
        "\n",
        "    # Draw multiple rings if applicable\n",
        "    rings_bool = random.choice([True, False])\n",
        "    if rings_bool:\n",
        "        n_rings = random.randint(2, 5)  # Randomly select n rings\n",
        "        ring_angle = random.uniform(-30, 30)  # Common angle for all rings\n",
        "        ring_factor = random.uniform(0.1, 0.65)  # Factor to scale the ring size\n",
        "        ring_top_bottom = random.choice([True, False])\n",
        "\n",
        "        ring_diameter_x = [0] * n_rings\n",
        "        ring_width = [0] * n_rings\n",
        "        ring_thickness = [0] * n_rings\n",
        "\n",
        "        if ring_top_bottom:\n",
        "            thet1 = 180\n",
        "            thet2 = 360\n",
        "        else:\n",
        "            thet1 = 0\n",
        "            thet2 = 180\n",
        "\n",
        "        for i in range(n_rings):\n",
        "            # Randomly vary the ring properties\n",
        "            ring_diameter_x[i] = planet_radius * random.uniform(2.5, 3.5)  # Horizontal diameter\n",
        "            ring_width[i] = ring_diameter_x[i]*ring_factor  #planet_radius * random.uniform(1.5, 2.0)       # Vertical diameter\n",
        "            ring_thickness[i] = random.randint(1, 5)  # Thickness of the ring\n",
        "\n",
        "\n",
        "            # Draw the back half of the ring\n",
        "            ring_back = Arc(\n",
        "                (0.5, 0.5),                # Center of the ellipse\n",
        "                width=ring_diameter_x[i],      # Horizontal diameter\n",
        "                height=ring_width[i],          # Vertical diameter\n",
        "                angle=ring_angle,           # Tilt angle\n",
        "                theta1=thet1, theta2=thet2,     # Back half of the ring (180°-360°)\n",
        "                color=ring_color,\n",
        "                lw=ring_thickness[i]\n",
        "            )\n",
        "            ax.add_artist(ring_back)\n",
        "\n",
        "    # Draw the planet itself\n",
        "    planet_circle = Circle((0.5, 0.5), planet_radius- atmosphere_depth, color='black', ec=\"none\", lw=1)\n",
        "    ax.add_artist(planet_circle)\n",
        "\n",
        "    # Draw random spots (like clouds or storms)\n",
        "    for _ in range(random.randint(1, 3)):\n",
        "        spot_x = random.uniform(0.5-planet_radius, 0.5+planet_radius)\n",
        "        spot_y = random.uniform(0.35, 0.65)\n",
        "        spot_size = random.uniform(0.01, planet_radius*0.2)\n",
        "        spot = Circle((spot_x, spot_y), spot_size, color=\"#001010\", alpha=1, ec='none')\n",
        "        ax.add_artist(spot)\n",
        "\n",
        "    planet_surface = Circle((0.5, 0.5), planet_radius, color=color, ec=\"none\", lw=1, alpha=0.2)\n",
        "    ax.add_artist(planet_surface)\n",
        "\n",
        "    # Draw the front half of each ring to complete the look\n",
        "    if rings_bool:\n",
        "        if ring_top_bottom:\n",
        "            thet1 = 0\n",
        "            thet2 = 180\n",
        "        else:\n",
        "            thet1 = 180\n",
        "            thet2 = 360\n",
        "        for i in range(n_rings):\n",
        "\n",
        "            ring_front = Arc(\n",
        "                (0.5, 0.5),                # Center of the ellipse\n",
        "                width=ring_diameter_x[i],      # Horizontal diameter\n",
        "                height=ring_width[i],          # Vertical diameter\n",
        "                angle=ring_angle,           # Tilt angle\n",
        "                theta1=thet1, theta2=thet2,       # Front half of the ring (0°-180°)\n",
        "                color=ring_color,\n",
        "                lw=ring_thickness[i]\n",
        "            )\n",
        "            ax.add_artist(ring_front)\n",
        "\n",
        "    # Remove axes, set equal aspect, and set black background\n",
        "    ax.set_facecolor(\"white\")\n",
        "    ax.set_aspect(\"equal\")\n",
        "    ax.axis(\"off\")\n",
        "\n",
        "def generate_planet_grid(show_chemistry=False):\n",
        "    \"\"\"\n",
        "    Generate a 5x5 grid of planets with different atmospheres.\n",
        "    \"\"\"\n",
        "    fig, axs = plt.subplots(5, 5, figsize=(10, 10), facecolor=\"white\")\n",
        "    atmosphere_types = ['co2', 'h2o', 'ch4']\n",
        "\n",
        "    for i in range(5):\n",
        "        for j in range(5):\n",
        "            atmosphere_type = random.choice(atmosphere_types)\n",
        "            generate_planet(axs[i, j], atmosphere_type)\n",
        "            if show_chemistry:\n",
        "                axs[i, j].set_title(atmosphere_type, fontsize=8, color=\"black\")\n",
        "\n",
        "    plt.tight_layout()\n",
        "    plt.show()\n",
        "\n",
        "class generate_single_planet():\n",
        "    def __init__(self, atmosphere_type=None, show_chemistry=False, show=True):\n",
        "        \"\"\"\n",
        "        Generate a single planet with the specified atmosphere type.\n",
        "        \"\"\"\n",
        "\n",
        "        if atmosphere_type is None:\n",
        "            atmosphere_type = random.choice(['co2', 'h2o', 'ch4'])\n",
        "        fig, ax = plt.subplots(figsize=(5, 5), facecolor=\"none\")\n",
        "        generate_planet(ax, atmosphere_type)\n",
        "        if show_chemistry:\n",
        "            ax.set_title(atmosphere_type, fontsize=8, color=\"black\", backgroundcolor=\"white\")\n",
        "        self.fig = fig\n",
        "        self.atmosphere_type = atmosphere_type\n",
        "\n",
        "        if show:\n",
        "            plt.show()\n",
        "        else:\n",
        "            plt.close()\n",
        "\n",
        "    def save(self, filename):\n",
        "\n",
        "        os.makedirs(os.path.dirname(filename), exist_ok=True)\n",
        "\n",
        "        self.fig.savefig(filename, dpi=80)\n",
        "\n",
        "\n",
        "\n",
        "def generate_star(ax, clmap=default_colourmap(plot=False), radius_range=(0.2, 0.5)):\n",
        "    \"\"\"\n",
        "    Draws a large star with variable size and sunspots behind the planet\n",
        "    \"\"\"\n",
        "    # Randomize star size and color\n",
        "    star_radius = random.uniform(*radius_range)\n",
        "    star_color = get_rgb_color(np.random.randint(70,85)/100, clmap)\n",
        "    star_center = ((np.random.rand(2)-0.5)*radius_range[1]*0.5)+0.5  # Randomize star position\n",
        "    star_circle = Circle((star_center[0], star_center[1]), star_radius, color=star_color, ec=\"none\", lw=2)\n",
        "    ax.add_artist(star_circle)\n",
        "\n",
        "    # Add sunspots on the star\n",
        "    for _ in range(random.randint(3, 7)):\n",
        "        sunspot_x = random.uniform(star_center[0] - star_radius, star_center[0] + star_radius)\n",
        "        sunspot_y = random.uniform(star_center[1] - star_radius, star_center[1] + star_radius)\n",
        "        sunspot_size = random.uniform(0.02, star_radius * 0.2)\n",
        "\n",
        "        # Only add the sunspot if it's within the star's bounds\n",
        "        if np.sqrt((sunspot_x - star_center[0])**2 + (sunspot_y - star_center[1])**2) < star_radius:\n",
        "            for i in range(20):\n",
        "                sunspot = Circle((sunspot_x, sunspot_y), sunspot_size*((20-i)/20), color=\"black\", alpha=0.1, ec='none')\n",
        "                ax.add_artist(sunspot)\n",
        "\n",
        "    ax.set_facecolor(\"black\")\n",
        "    ax.set_aspect(\"equal\")\n",
        "    ax.axis(\"off\")\n",
        "\n",
        "\n",
        "\n",
        "def generate_star_grid(radius_range=(0.2, 0.3)):\n",
        "    \"\"\"\n",
        "    Generate a 5x5 grid of planets with different atmospheres.\n",
        "    \"\"\"\n",
        "    fig, axs = plt.subplots(5, 5, figsize=(10, 10), facecolor=\"black\")\n",
        "\n",
        "    for i in range(5):\n",
        "        for j in range(5):\n",
        "            generate_star(axs[i, j], radius_range=radius_range)\n",
        "\n",
        "\n",
        "    plt.tight_layout()\n",
        "    plt.show()\n",
        "\n",
        "class generate_single_star():\n",
        "    def __init__(self, radius_range=(0.2, 0.3), show=True):\n",
        "        \"\"\"\n",
        "        Generate a single star.\n",
        "        \"\"\"\n",
        "        fig, ax = plt.subplots(figsize=(5, 5), facecolor=\"black\")\n",
        "        generate_star(ax, radius_range=radius_range)\n",
        "        self.fig = fig\n",
        "\n",
        "        if show:\n",
        "            plt.show()\n",
        "        else:\n",
        "            plt.close()\n",
        "\n",
        "    def save(self, filename):\n",
        "        os.makedirs(os.path.dirname(filename), exist_ok=True)\n",
        "        self.fig.savefig(filename, dpi=80)\n",
        "\n",
        "\n",
        "class generate_combined_image():\n",
        "    def __init__(self, planet_file, star_file, show=True):\n",
        "\n",
        "        # Open the planet and star images\n",
        "        planet_image = Image.open(planet_file)\n",
        "        star_image = Image.open(star_file)\n",
        "\n",
        "        # scale the star image to match the planet image\n",
        "        star_image = star_image.resize(planet_image.size)\n",
        "\n",
        "        # Overlay the star image on top of the planet image\n",
        "        overlay_image = Image.alpha_composite(star_image.convert(\"RGBA\"), planet_image.convert(\"RGBA\"))\n",
        "\n",
        "        fig, ax = plt.subplots(figsize=(5, 5), facecolor=\"black\")\n",
        "        self.fig = fig\n",
        "        ax.imshow(overlay_image)\n",
        "        ax.set_xlim(50, 350)\n",
        "        ax.set_ylim(350, 50)\n",
        "        ax.axis(\"off\")\n",
        "        if show:\n",
        "            plt.show()\n",
        "        else:\n",
        "            plt.close()\n",
        "\n",
        "    def save(self, filename):\n",
        "\n",
        "        # Save the figure in the corresponding folder\n",
        "        os.makedirs(os.path.dirname(filename), exist_ok=True)\n",
        "        self.fig.savefig(filename, dpi=80, bbox_inches='tight', facecolor=\"black\")\n",
        "\n",
        "def generate_colorbar():\n",
        "    \"\"\"\n",
        "    Creates a color map representing the visible spectrum from red to violet.\n",
        "    \"\"\"\n",
        "    # Use a colormap that approximates the visible light spectrum\n",
        "    spectrum_colormap = cm.get_cmap(default_colourmap(plot=False), 256)\n",
        "    # print('spectrum_colormap shape')\n",
        "    # print(spectrum_colormap(np.linspace(0, 1, 256)).shape)\n",
        "    return spectrum_colormap\n",
        "\n",
        "def calculate_normalised_wavelength(rgb, colorbar):\n",
        "    \"\"\"\n",
        "    Maps an RGB value to a position on a spectrum colorbar.\n",
        "    Returns a 'wavelength' value between 0 and 1.\n",
        "    \"\"\"\n",
        "    # Convert the RGB color to a normalized array [0, 1]\n",
        "    rgb_normalized = np.array(rgb) / 255.0\n",
        "\n",
        "    # Find the closest color on the colorbar to the RGB color\n",
        "    color_diffs = np.linalg.norm(colorbar[:, :4] - rgb_normalized, axis=1)\n",
        "    # print(f\"colour diffs shape: {color_diffs.shape}\")\n",
        "    # print(f\"colour diffs max: {color_diffs.max()}\")\n",
        "    min_index = np.argmin(color_diffs)\n",
        "    # print(f\"min index: {min_index}\")\n",
        "\n",
        "    # Normalize the index to get a value between 0 and 1\n",
        "    normalized_wavelength = min_index / (len(colorbar) - 1)\n",
        "    return normalized_wavelength\n",
        "\n",
        "class generate_spectrum():\n",
        "    def __init__(self, image_path, y_axis_scale='linear', show=True, bins=256):\n",
        "        \"\"\"\n",
        "        Reads in an image file, calculates normalized 'wavelengths' for each pixel, and generates a histogram.\n",
        "        \"\"\"\n",
        "        # Load the image and convert it to an array\n",
        "        image = Image.open(image_path)\n",
        "        image_array = np.array(image)\n",
        "\n",
        "        # print(f'image shape:{image_array.shape}')\n",
        "\n",
        "        # Flatten the 2D image array into a 1D list\n",
        "        pixels = image_array.reshape(-1, 4)\n",
        "\n",
        "        # Generate the colorbar for the visible spectrum\n",
        "        colorbar = generate_colorbar()(np.linspace(0, 1, 256))\n",
        "\n",
        "        # Calculate the 'wavelength' for each pixel\n",
        "        wavelengths = [0,1]\n",
        "        for pixel in pixels:\n",
        "            wavelength = calculate_normalised_wavelength(pixel, colorbar)\n",
        "            wavelengths.append(wavelength)\n",
        "\n",
        "\n",
        "\n",
        "        # Compute histogram using numpy\n",
        "        hist, bin_edges = np.histogram(wavelengths, bins=bins, density=True)\n",
        "\n",
        "        # Prepare the x values for the line plot (midpoints of the bins)\n",
        "        bin_centers = (bin_edges[:-1] + bin_edges[1:]) / 2\n",
        "\n",
        "        self.intensity = hist\n",
        "        self.wavelength = bin_centers\n",
        "\n",
        "        if show:\n",
        "            # Plot the histogram as a line\n",
        "            fig, axs = plt.subplots(1,2,width_ratios=[4,1] , figsize=(8, 5))\n",
        "            ax=axs[0]\n",
        "            ax.plot(bin_centers, hist, \"k-\", linewidth=2)\n",
        "            ax.set_title(\"Spectrum of Image [Colour Distribution]\")\n",
        "            ax.set_xticks([])\n",
        "            ax.set_ylabel(\"[number of pixels]\\nIntensity\")\n",
        "            ax.set_xlim(0, 1)\n",
        "            if y_axis_scale == 'log':\n",
        "                ax.set_yscale('log')\n",
        "                ax.set_ylim(-0.01, None)\n",
        "            elif y_axis_scale == 'linear':\n",
        "                ax.set_ylim(-1, None)\n",
        "            else:\n",
        "                raise ValueError(\"y_axis_scale must be either 'linear' or 'log'\")\n",
        "\n",
        "            # Create the colorbar\n",
        "            norm = Normalize(vmin=0, vmax=1)\n",
        "            sm = cm.ScalarMappable(cmap=default_colourmap(plot=False), norm=norm)#nipy_spectral\n",
        "            sm.set_array([])  # Dummy array for color mapping\n",
        "\n",
        "\n",
        "\n",
        "            # Add colorbar below the histogram\n",
        "            cbar = plt.colorbar(sm, ax=ax, orientation='horizontal', pad=0.02)\n",
        "            cbar.set_label(\"Wavelength (nm)\\n[colour]\")\n",
        "            cbar.set_ticks([0.18,0.4,0.62,0.84])\n",
        "            cbar.set_ticklabels([400,500,600,700])\n",
        "\n",
        "            axs[1].imshow(np.array(image)[15:-15,15:-15])\n",
        "            axs[1].axis('off')\n",
        "\n",
        "            plt.tight_layout()\n",
        "            plt.show()\n",
        "\n",
        "    def save(self, filename):\n",
        "        os.makedirs(os.path.dirname(filename), exist_ok=True)\n",
        "\n",
        "        # use numpy to save the data as a csv file\n",
        "        np.savetxt(filename, np.array([self.wavelength, self.intensity]).T, delimiter=',', header='wavelength,intensity', comments='')\n",
        "\n",
        "def add_colorbar():\n",
        "    # Create the colorbar\n",
        "    norm = Normalize(vmin=0, vmax=1)\n",
        "    sm = cm.ScalarMappable(cmap=default_colourmap(plot=False), norm=norm)#nipy_spectral\n",
        "    sm.set_array([])  # Dummy array for color mapping\n",
        "    ax = plt.gca()\n",
        "    ax.set_xticks([])\n",
        "    ax.set_xlim(0, 1)\n",
        "    # Add colorbar below the histogram\n",
        "    cbar = plt.colorbar(sm, ax=ax, orientation='horizontal', pad=0.02)\n",
        "    cbar.set_label(\"Wavelength (nm)\\n[colour]\")\n",
        "    cbar.set_ticks([0.18,0.4,0.62,0.84])\n",
        "    cbar.set_ticklabels([400,500,600,700])\n",
        "\n",
        "    plt.tight_layout()\n"
      ]
    },
    {
      "cell_type": "markdown",
      "metadata": {
        "id": "Nlvmqslo_f0Z"
      },
      "source": [
        "# Start Here!"
      ]
    },
    {
      "cell_type": "code",
      "execution_count": null,
      "metadata": {
        "id": "wHzkdoWA_f0Z"
      },
      "outputs": [],
      "source": [
        "generate_single_planet()"
      ]
    },
    {
      "cell_type": "code",
      "execution_count": null,
      "metadata": {
        "id": "ONJ5KXMW_f0a"
      },
      "outputs": [],
      "source": [
        "generate_planet_grid()"
      ]
    },
    {
      "cell_type": "code",
      "execution_count": null,
      "metadata": {
        "id": "znckOCuU_f0a"
      },
      "outputs": [],
      "source": [
        "generate_single_star()"
      ]
    },
    {
      "cell_type": "code",
      "execution_count": null,
      "metadata": {
        "id": "7-mNuqpI_f0a"
      },
      "outputs": [],
      "source": [
        "generate_star_grid()"
      ]
    },
    {
      "cell_type": "code",
      "execution_count": null,
      "metadata": {
        "id": "WTurOrAU_f0a"
      },
      "outputs": [],
      "source": [
        "generate_star_grid(radius_range=(1, 1))"
      ]
    },
    {
      "cell_type": "code",
      "execution_count": null,
      "metadata": {
        "id": "x28u9RyG_f0b"
      },
      "outputs": [],
      "source": [
        "my_planet = generate_single_planet()"
      ]
    },
    {
      "cell_type": "code",
      "execution_count": null,
      "metadata": {
        "id": "HAKNgErB_f0b"
      },
      "outputs": [],
      "source": [
        "my_planet.save(\"planets/myplanet.png\")"
      ]
    },
    {
      "cell_type": "code",
      "execution_count": null,
      "metadata": {
        "id": "IZ4JlCr0_f0c"
      },
      "outputs": [],
      "source": [
        "my_star = generate_single_star(radius_range=(1, 1))"
      ]
    },
    {
      "cell_type": "code",
      "execution_count": null,
      "metadata": {
        "id": "c-GICWQ9_f0c"
      },
      "outputs": [],
      "source": [
        "my_star.save(\"stars/mystar.png\")"
      ]
    },
    {
      "cell_type": "code",
      "execution_count": null,
      "metadata": {
        "id": "LDbZzOgJ_f0c"
      },
      "outputs": [],
      "source": [
        "my_combined = generate_combined_image(\"planets/myplanet.png\", \"stars/mystar.png\")\n"
      ]
    },
    {
      "cell_type": "code",
      "execution_count": null,
      "metadata": {
        "id": "d-IJ9693_f0c"
      },
      "outputs": [],
      "source": [
        "my_combined.save(\"combined/mycombined.png\")"
      ]
    },
    {
      "cell_type": "code",
      "execution_count": null,
      "metadata": {
        "id": "M3WWSROY_f0c"
      },
      "outputs": [],
      "source": [
        "colourmap = default_colourmap()"
      ]
    },
    {
      "cell_type": "code",
      "execution_count": null,
      "metadata": {
        "id": "B4VR40tQ_f0c"
      },
      "outputs": [],
      "source": [
        "image_path = \"combined/mycombined.png\"\n",
        "generate_spectrum(image_path)"
      ]
    },
    {
      "cell_type": "code",
      "execution_count": null,
      "metadata": {
        "id": "lulOOVD1_f0d"
      },
      "outputs": [],
      "source": [
        "my_spectral_analysis = generate_spectrum(image_path, y_axis_scale='log')"
      ]
    },
    {
      "cell_type": "code",
      "execution_count": null,
      "metadata": {
        "id": "82HXCGsi_f0d"
      },
      "outputs": [],
      "source": [
        "my_spectral_analysis.save(\"spectra/combinedspectralanalysis.csv\")"
      ]
    },
    {
      "cell_type": "code",
      "execution_count": null,
      "metadata": {
        "id": "IvY3Ysn-_f0d"
      },
      "outputs": [],
      "source": [
        "star_path = \"stars/mystar.png\"\n",
        "star_analysis = generate_spectrum(star_path, y_axis_scale='log')\n",
        "star_analysis.save(\"spectra/starspectralanalysis.csv\")"
      ]
    },
    {
      "cell_type": "code",
      "execution_count": null,
      "metadata": {
        "id": "rJn1CWxR_f0d"
      },
      "outputs": [],
      "source": [
        "planet_intensity = my_spectral_analysis.intensity - star_analysis.intensity\n",
        "\n",
        "plt.plot(\n",
        "    my_spectral_analysis.wavelength,\n",
        "    planet_intensity,\n",
        "    \"k-\"\n",
        "    )\n",
        "\n",
        "add_colorbar()"
      ]
    },
    {
      "cell_type": "code",
      "execution_count": null,
      "metadata": {
        "id": "HJY24no8_f0d"
      },
      "outputs": [],
      "source": [
        "planet_intensity = my_spectral_analysis.intensity - star_analysis.intensity\n",
        "\n",
        "plt.plot(\n",
        "    my_spectral_analysis.wavelength,\n",
        "    my_spectral_analysis.intensity,\n",
        "    \"r-.\",\n",
        "    label=r'$\\Sigma$'\n",
        "    )\n",
        "\n",
        "plt.plot(\n",
        "    my_spectral_analysis.wavelength,\n",
        "    planet_intensity,\n",
        "    \"k\",\n",
        "    label=r'$\\Delta$'\n",
        "    )\n",
        "\n",
        "plt.legend()\n",
        "\n",
        "add_colorbar()\n",
        "\n",
        "plt.yscale('log')"
      ]
    },
    {
      "cell_type": "code",
      "execution_count": null,
      "metadata": {
        "id": "7K1pWoYW_f0d"
      },
      "outputs": [],
      "source": [
        "for i in range(3):\n",
        "\n",
        "    print(i)\n",
        "\n",
        "    generate_single_planet(show_chemistry=True)"
      ]
    },
    {
      "cell_type": "code",
      "execution_count": null,
      "metadata": {
        "id": "mZZeAHxA_f0e"
      },
      "outputs": [],
      "source": [
        "table_of_results = np.zeros((10, 256))\n",
        "\n",
        "for i in tqdm(range(10)):\n",
        "\n",
        "     planet = generate_single_planet(atmosphere_type='h2o', show=False)\n",
        "     star = generate_single_star(radius_range=(1, 1), show=False)\n",
        "     planet.save(f\"planets/planet_{i}.png\")\n",
        "     star.save(f\"stars/star_{i}.png\")\n",
        "\n",
        "     combined = generate_combined_image(f\"planets/planet_{i}.png\", f\"stars/star_{i}.png\", show=False)\n",
        "     combined.save(f\"combined/combined_{i}.png\")\n",
        "\n",
        "     sigma_spectral_analysis = generate_spectrum(f\"combined/combined_{i}.png\", show=False)\n",
        "     star_spectral_analysis = generate_spectrum(f\"stars/star_{i}.png\", show=False)\n",
        "\n",
        "     planet_intensity = sigma_spectral_analysis.intensity - star_spectral_analysis.intensity\n",
        "\n",
        "     table_of_results[i] = planet_intensity"
      ]
    },
    {
      "cell_type": "code",
      "execution_count": null,
      "metadata": {
        "id": "PuTcqVGN_f0e"
      },
      "outputs": [],
      "source": [
        "for i in range(10):\n",
        "    plt.plot(\n",
        "        sigma_spectral_analysis.wavelength,\n",
        "        table_of_results[i],\n",
        "        )\n",
        "\n",
        "plt.yscale('log')\n",
        "add_colorbar()"
      ]
    },
    {
      "cell_type": "code",
      "execution_count": null,
      "metadata": {
        "id": "A-jx0yv2_f0e"
      },
      "outputs": [],
      "source": [
        "np.savetxt(\"spectra/h2o_spectral_analysis.csv\", table_of_results, delimiter=',')"
      ]
    },
    {
      "cell_type": "code",
      "execution_count": null,
      "metadata": {
        "id": "JgLvzK8y_f0e"
      },
      "outputs": [],
      "source": [
        "def run_experiment(chemistry, n_samples=10):\n",
        "\n",
        "    table_of_results = np.zeros((n_samples, 256))\n",
        "\n",
        "    for i in tqdm(range(n_samples)):\n",
        "\n",
        "        planet = generate_single_planet(atmosphere_type=chemistry, show=False)\n",
        "        star = generate_single_star(radius_range=(1, 1), show=False)\n",
        "        planet.save(f\"planets/planet_{chemistry}_{i}.png\")\n",
        "        star.save(f\"stars/star_{chemistry}_{i}.png\")\n",
        "\n",
        "        combined = generate_combined_image(f\"planets/planet_{chemistry}_{i}.png\", f\"stars/star_{chemistry}_{i}.png\", show=False)\n",
        "        combined.save(f\"combined/combined_{chemistry}_{i}.png\")\n",
        "\n",
        "        sigma_spectral_analysis = generate_spectrum(f\"combined/combined_{chemistry}_{i}.png\", show=False)\n",
        "        star_spectral_analysis = generate_spectrum(f\"stars/star_{chemistry}_{i}.png\", show=False)\n",
        "\n",
        "        planet_intensity = sigma_spectral_analysis.intensity - star_spectral_analysis.intensity\n",
        "\n",
        "        table_of_results[i] = planet_intensity\n",
        "\n",
        "    np.savetxt(f\"spectra/{chemistry}_spectral_analysis.csv\", table_of_results, delimiter=',')"
      ]
    },
    {
      "cell_type": "code",
      "execution_count": null,
      "metadata": {
        "id": "1A6iNFSq_f0e"
      },
      "outputs": [],
      "source": [
        "run_experiment('co2', 15)\n",
        "run_experiment('ch4')"
      ]
    },
    {
      "cell_type": "code",
      "execution_count": null,
      "metadata": {
        "id": "XhHn543K_f0e"
      },
      "outputs": [],
      "source": [
        "h2o = np.loadtxt(\"spectra/h2o_spectral_analysis.csv\", delimiter=',')\n",
        "co2 = np.loadtxt(\"spectra/co2_spectral_analysis.csv\", delimiter=',')\n",
        "ch4 = np.loadtxt(\"spectra/ch4_spectral_analysis.csv\", delimiter=',')\n",
        "\n",
        "training_data = np.vstack((h2o, co2, ch4))\n",
        "labels = np.array(['h2o']*len(h2o) + ['co2']*len(co2) + ['ch4']*len(ch4))"
      ]
    },
    {
      "cell_type": "code",
      "execution_count": null,
      "metadata": {
        "id": "My1h2QnO_f0f"
      },
      "outputs": [],
      "source": [
        "print(training_data.shape)\n",
        "print(labels)"
      ]
    },
    {
      "cell_type": "code",
      "execution_count": null,
      "metadata": {
        "id": "QGOdmC7t_f0f"
      },
      "outputs": [],
      "source": [
        "# zip together the data and labels and shuffle\n",
        "shuffled_data = list(zip(training_data, labels))\n",
        "random.shuffle(shuffled_data)\n",
        "\n",
        "# unzip the shuffled data\n",
        "shuffled_data, shuffled_labels = zip(*shuffled_data)"
      ]
    },
    {
      "cell_type": "code",
      "execution_count": null,
      "metadata": {
        "id": "gsNnewlQ_f0f"
      },
      "outputs": [],
      "source": [
        "training_data = np.array(shuffled_data)[:20]\n",
        "training_labels = np.array(shuffled_labels)[:20]\n",
        "\n",
        "test_data = np.array(shuffled_data)[20:]\n",
        "test_labels = np.array(shuffled_labels)[20:]\n",
        "\n",
        "print('train')\n",
        "print(training_labels)\n",
        "\n",
        "print('test')\n",
        "print(test_labels)\n"
      ]
    },
    {
      "cell_type": "code",
      "execution_count": null,
      "metadata": {
        "id": "3Uqz1QgN_f0f"
      },
      "outputs": [],
      "source": [
        "# Create the classifier\n",
        "classifier = DecisionTreeClassifier()\n",
        "\n",
        "# Train the classifier on the training set\n",
        "classifier.fit(training_data, training_labels)\n",
        "\n",
        "# Validate the classifier on the testing set using classification accuracy\n",
        "print(f\"Accuracy after training: {classifier.score(test_data, test_labels)}\")\n"
      ]
    },
    {
      "cell_type": "code",
      "execution_count": null,
      "metadata": {
        "id": "9n5EeRQv_f0f"
      },
      "outputs": [],
      "source": [
        "test_predictions = classifier.predict(test_data)\n",
        "\n",
        "print(test_predictions)"
      ]
    },
    {
      "cell_type": "code",
      "execution_count": null,
      "metadata": {
        "id": "K3v3Zmtn_f0f"
      },
      "outputs": [],
      "source": [
        "# Unique classes\n",
        "classes = np.unique(np.concatenate((test_labels, test_predictions)))\n",
        "n_classes = len(classes)\n",
        "\n",
        "# Create a confusion grid\n",
        "grid = np.zeros((n_classes, n_classes), dtype=int)\n",
        "\n",
        "# Populate the grid\n",
        "for gt, pred in zip(test_labels, test_predictions):\n",
        "    x = np.where(classes == gt)[0][0]  # Ground truth index\n",
        "    y = np.where(classes == pred)[0][0]  # Predicted value index\n",
        "    grid[y, x] += 1\n",
        "\n",
        "# Plot the grid\n",
        "plt.figure(figsize=(6, 6))\n",
        "plt.imshow(grid, cmap='Blues', interpolation='nearest')\n",
        "plt.xticks(range(n_classes), classes, rotation=45)\n",
        "plt.yticks(range(n_classes), classes)\n",
        "plt.xlabel(\"Ground Truth\")\n",
        "plt.ylabel(\"Predicted\")\n",
        "plt.colorbar(label=\"Count\", shrink=0.74)\n",
        "\n",
        "for i in range(n_classes):\n",
        "    for j in range(n_classes):\n",
        "        plt.text(j, i, grid[i, j], ha='center', va='center', color='black')\n",
        "plt.tight_layout()\n",
        "plt.show()\n"
      ]
    },
    {
      "cell_type": "code",
      "execution_count": null,
      "metadata": {
        "id": "Ar4WkOPl_f0g"
      },
      "outputs": [],
      "source": [
        "planet = generate_single_planet()\n",
        "chemistry = planet.atmosphere_type\n",
        "print(f\"Actual atmosphere: {chemistry}\")\n",
        "star = generate_single_star(radius_range=(1, 1), show=True)\n",
        "planet.save(f\"planets/planet_{chemistry}_temp.png\")\n",
        "star.save(f\"stars/star_{chemistry}_temp.png\")\n",
        "\n",
        "combined = generate_combined_image(f\"planets/planet_{chemistry}_temp.png\", f\"stars/star_{chemistry}_temp.png\", show=True)\n",
        "combined.save(f\"combined/combined_{chemistry}_temp.png\")\n",
        "\n",
        "sigma_spectral_analysis = generate_spectrum(f\"combined/combined_{chemistry}_temp.png\", show=True, y_axis_scale='log')\n",
        "star_spectral_analysis = generate_spectrum(f\"stars/star_{chemistry}_temp.png\", show=True, y_axis_scale='log')\n",
        "\n",
        "planet_intensity = sigma_spectral_analysis.intensity - star_spectral_analysis.intensity\n",
        "\n",
        "plt.plot(\n",
        "    my_spectral_analysis.wavelength,\n",
        "    my_spectral_analysis.intensity,\n",
        "    \"r-.\",\n",
        "    label=r'$\\Sigma$'\n",
        "    )\n",
        "\n",
        "plt.plot(\n",
        "    my_spectral_analysis.wavelength,\n",
        "    planet_intensity,\n",
        "    \"k\",\n",
        "    label=r'$\\Delta$'\n",
        "    )\n",
        "\n",
        "plt.legend()\n",
        "\n",
        "add_colorbar()\n",
        "\n",
        "plt.yscale('log')\n",
        "\n",
        "prediction = classifier.predict(planet_intensity.reshape(1, -1))\n",
        "\n",
        "print(f\"Predicted atmosphere: {prediction[0]}\")"
      ]
    },
    {
      "cell_type": "code",
      "execution_count": null,
      "metadata": {
        "id": "Cfsx788I_f0g"
      },
      "outputs": [],
      "source": []
    }
  ],
  "metadata": {
    "kernelspec": {
      "display_name": "Python 3",
      "language": "python",
      "name": "python3"
    },
    "language_info": {
      "codemirror_mode": {
        "name": "ipython",
        "version": 3
      },
      "file_extension": ".py",
      "mimetype": "text/x-python",
      "name": "python",
      "nbconvert_exporter": "python",
      "pygments_lexer": "ipython3",
      "version": "3.12.3"
    },
    "colab": {
      "provenance": [],
      "include_colab_link": true
    }
  },
  "nbformat": 4,
  "nbformat_minor": 0
}